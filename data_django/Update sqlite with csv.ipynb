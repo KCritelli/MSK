{
 "cells": [
  {
   "cell_type": "code",
   "execution_count": 8,
   "metadata": {
    "collapsed": true
   },
   "outputs": [],
   "source": [
    "import os\n",
    "import glob\n",
    "import numpy as np\n",
    "import pandas as pd\n",
    "import matplotlib.pyplot as plt\n",
    "import re\n",
    "%matplotlib inline\n",
    "import warnings\n",
    "warnings.filterwarnings(\"ignore\")\n",
    "pd.set_option('display.max_columns', None)\n",
    "#display(data)"
   ]
  },
  {
   "cell_type": "code",
   "execution_count": 25,
   "metadata": {},
   "outputs": [
    {
     "data": {
      "text/html": [
       "<div>\n",
       "<style>\n",
       "    .dataframe thead tr:only-child th {\n",
       "        text-align: right;\n",
       "    }\n",
       "\n",
       "    .dataframe thead th {\n",
       "        text-align: left;\n",
       "    }\n",
       "\n",
       "    .dataframe tbody tr th {\n",
       "        vertical-align: top;\n",
       "    }\n",
       "</style>\n",
       "<table border=\"1\" class=\"dataframe\">\n",
       "  <thead>\n",
       "    <tr style=\"text-align: right;\">\n",
       "      <th></th>\n",
       "      <th>pmid</th>\n",
       "      <th>title</th>\n",
       "      <th>keywords</th>\n",
       "      <th>abstract</th>\n",
       "      <th>link</th>\n",
       "    </tr>\n",
       "  </thead>\n",
       "  <tbody>\n",
       "    <tr>\n",
       "      <th>0</th>\n",
       "      <td>28881380</td>\n",
       "      <td>Missed therapeutic and prevention opportunitie...</td>\n",
       "      <td>BRCA testing; poly ADP-ribose polymerase (PARP...</td>\n",
       "      <td>Answer questions and earn CME/CNE Fifteen perc...</td>\n",
       "      <td>https://www.ncbi.nlm.nih.gov/pubmed/28881380</td>\n",
       "    </tr>\n",
       "    <tr>\n",
       "      <th>1</th>\n",
       "      <td>28880737</td>\n",
       "      <td>Cost-effectiveness of osimertinib in the UK fo...</td>\n",
       "      <td>EGFR-T790M mutation; NSCLC; cost-effective; co...</td>\n",
       "      <td>This study presents the cost-utility analysis ...</td>\n",
       "      <td>https://www.ncbi.nlm.nih.gov/pubmed/28880737</td>\n",
       "    </tr>\n",
       "    <tr>\n",
       "      <th>2</th>\n",
       "      <td>28880088</td>\n",
       "      <td>Brain accumulation of ponatinib and its active...</td>\n",
       "      <td>NaN</td>\n",
       "      <td>Ponatinib is an oral BCR-ABL1 inhibitor for tr...</td>\n",
       "      <td>https://www.ncbi.nlm.nih.gov/pubmed/28880088</td>\n",
       "    </tr>\n",
       "    <tr>\n",
       "      <th>3</th>\n",
       "      <td>28880013</td>\n",
       "      <td>Osimertinib (AZD9291) decreases programmed dea...</td>\n",
       "      <td>NaN</td>\n",
       "      <td>Osimertinib (AZD9291) is a third-generation ep...</td>\n",
       "      <td>https://www.ncbi.nlm.nih.gov/pubmed/28880013</td>\n",
       "    </tr>\n",
       "    <tr>\n",
       "      <th>4</th>\n",
       "      <td>28879638</td>\n",
       "      <td>Impact of Etoposide on BRCA1 Expression in Var...</td>\n",
       "      <td>NaN</td>\n",
       "      <td>Breast cancer 1 (BRCA1), as a tumor suppressor...</td>\n",
       "      <td>https://www.ncbi.nlm.nih.gov/pubmed/28879638</td>\n",
       "    </tr>\n",
       "  </tbody>\n",
       "</table>\n",
       "</div>"
      ],
      "text/plain": [
       "       pmid                                              title  \\\n",
       "0  28881380  Missed therapeutic and prevention opportunitie...   \n",
       "1  28880737  Cost-effectiveness of osimertinib in the UK fo...   \n",
       "2  28880088  Brain accumulation of ponatinib and its active...   \n",
       "3  28880013  Osimertinib (AZD9291) decreases programmed dea...   \n",
       "4  28879638  Impact of Etoposide on BRCA1 Expression in Var...   \n",
       "\n",
       "                                            keywords  \\\n",
       "0  BRCA testing; poly ADP-ribose polymerase (PARP...   \n",
       "1  EGFR-T790M mutation; NSCLC; cost-effective; co...   \n",
       "2                                                NaN   \n",
       "3                                                NaN   \n",
       "4                                                NaN   \n",
       "\n",
       "                                            abstract  \\\n",
       "0  Answer questions and earn CME/CNE Fifteen perc...   \n",
       "1  This study presents the cost-utility analysis ...   \n",
       "2  Ponatinib is an oral BCR-ABL1 inhibitor for tr...   \n",
       "3  Osimertinib (AZD9291) is a third-generation ep...   \n",
       "4  Breast cancer 1 (BRCA1), as a tumor suppressor...   \n",
       "\n",
       "                                           link  \n",
       "0  https://www.ncbi.nlm.nih.gov/pubmed/28881380  \n",
       "1  https://www.ncbi.nlm.nih.gov/pubmed/28880737  \n",
       "2  https://www.ncbi.nlm.nih.gov/pubmed/28880088  \n",
       "3  https://www.ncbi.nlm.nih.gov/pubmed/28880013  \n",
       "4  https://www.ncbi.nlm.nih.gov/pubmed/28879638  "
      ]
     },
     "execution_count": 25,
     "metadata": {},
     "output_type": "execute_result"
    }
   ],
   "source": [
    "pubmed = pd.read_csv('../pubmed_abstract.csv')\n",
    "pubmed = pubmed[pubmed.abstract.isnull()== False ]\n",
    "pubmed.head()"
   ]
  },
  {
   "cell_type": "code",
   "execution_count": 29,
   "metadata": {
    "scrolled": true
   },
   "outputs": [],
   "source": [
    "import pandas, sqlite3, csv"
   ]
  },
  {
   "cell_type": "code",
   "execution_count": 51,
   "metadata": {},
   "outputs": [],
   "source": [
    "conn = sqlite3.connect(\"db.sqlite3\")\n",
    "df = pd.read_sql_query(\"select * from pubmed_abstract limit 5;\", conn)\n",
    "print(df)\n",
    "conn.close()"
   ]
  },
  {
   "cell_type": "code",
   "execution_count": 55,
   "metadata": {},
   "outputs": [],
   "source": [
    "# Iterate through the CSV reader, inserting values into the database\n",
    "import pandas, sqlite3, csv\n",
    "conn = sqlite3.connect(\"db.sqlite3\")\n",
    "cursor = conn.cursor()\n",
    "\n",
    "ifile  = open('../pubmed_abstract.csv', \"r\")\n",
    "creader = csv.reader(ifile)\n",
    "\n",
    "for t in creader:\n",
    "    cursor.execute('INSERT INTO pubmed_abstract (pmid, title, keywords, abstract, link) VALUES (?,?,?,?,?)', t )\n",
    "\n",
    "#creader.close()\n",
    "conn.commit()\n",
    "cursor.close()\n",
    "conn.close()"
   ]
  },
  {
   "cell_type": "code",
   "execution_count": 57,
   "metadata": {},
   "outputs": [
    {
     "data": {
      "text/html": [
       "<div>\n",
       "<style>\n",
       "    .dataframe thead tr:only-child th {\n",
       "        text-align: right;\n",
       "    }\n",
       "\n",
       "    .dataframe thead th {\n",
       "        text-align: left;\n",
       "    }\n",
       "\n",
       "    .dataframe tbody tr th {\n",
       "        vertical-align: top;\n",
       "    }\n",
       "</style>\n",
       "<table border=\"1\" class=\"dataframe\">\n",
       "  <thead>\n",
       "    <tr style=\"text-align: right;\">\n",
       "      <th></th>\n",
       "      <th>id</th>\n",
       "      <th>pmid</th>\n",
       "      <th>title</th>\n",
       "      <th>abstract</th>\n",
       "      <th>link</th>\n",
       "      <th>keywords</th>\n",
       "    </tr>\n",
       "  </thead>\n",
       "  <tbody>\n",
       "    <tr>\n",
       "      <th>0</th>\n",
       "      <td>3</td>\n",
       "      <td>pmid</td>\n",
       "      <td>title</td>\n",
       "      <td>abstract</td>\n",
       "      <td>link</td>\n",
       "      <td>keywords</td>\n",
       "    </tr>\n",
       "    <tr>\n",
       "      <th>1</th>\n",
       "      <td>4</td>\n",
       "      <td>28881380</td>\n",
       "      <td>Missed therapeutic and prevention opportunitie...</td>\n",
       "      <td>Answer questions and earn CME/CNE Fifteen perc...</td>\n",
       "      <td>https://www.ncbi.nlm.nih.gov/pubmed/28881380</td>\n",
       "      <td>BRCA testing; poly ADP-ribose polymerase (PARP...</td>\n",
       "    </tr>\n",
       "    <tr>\n",
       "      <th>2</th>\n",
       "      <td>5</td>\n",
       "      <td>28880737</td>\n",
       "      <td>Cost-effectiveness of osimertinib in the UK fo...</td>\n",
       "      <td>This study presents the cost-utility analysis ...</td>\n",
       "      <td>https://www.ncbi.nlm.nih.gov/pubmed/28880737</td>\n",
       "      <td>EGFR-T790M mutation; NSCLC; cost-effective; co...</td>\n",
       "    </tr>\n",
       "    <tr>\n",
       "      <th>3</th>\n",
       "      <td>6</td>\n",
       "      <td>28880088</td>\n",
       "      <td>Brain accumulation of ponatinib and its active...</td>\n",
       "      <td>Ponatinib is an oral BCR-ABL1 inhibitor for tr...</td>\n",
       "      <td>https://www.ncbi.nlm.nih.gov/pubmed/28880088</td>\n",
       "      <td></td>\n",
       "    </tr>\n",
       "    <tr>\n",
       "      <th>4</th>\n",
       "      <td>7</td>\n",
       "      <td>28880013</td>\n",
       "      <td>Osimertinib (AZD9291) decreases programmed dea...</td>\n",
       "      <td>Osimertinib (AZD9291) is a third-generation ep...</td>\n",
       "      <td>https://www.ncbi.nlm.nih.gov/pubmed/28880013</td>\n",
       "      <td></td>\n",
       "    </tr>\n",
       "  </tbody>\n",
       "</table>\n",
       "</div>"
      ],
      "text/plain": [
       "   id      pmid                                              title  \\\n",
       "0   3      pmid                                              title   \n",
       "1   4  28881380  Missed therapeutic and prevention opportunitie...   \n",
       "2   5  28880737  Cost-effectiveness of osimertinib in the UK fo...   \n",
       "3   6  28880088  Brain accumulation of ponatinib and its active...   \n",
       "4   7  28880013  Osimertinib (AZD9291) decreases programmed dea...   \n",
       "\n",
       "                                            abstract  \\\n",
       "0                                           abstract   \n",
       "1  Answer questions and earn CME/CNE Fifteen perc...   \n",
       "2  This study presents the cost-utility analysis ...   \n",
       "3  Ponatinib is an oral BCR-ABL1 inhibitor for tr...   \n",
       "4  Osimertinib (AZD9291) is a third-generation ep...   \n",
       "\n",
       "                                           link  \\\n",
       "0                                          link   \n",
       "1  https://www.ncbi.nlm.nih.gov/pubmed/28881380   \n",
       "2  https://www.ncbi.nlm.nih.gov/pubmed/28880737   \n",
       "3  https://www.ncbi.nlm.nih.gov/pubmed/28880088   \n",
       "4  https://www.ncbi.nlm.nih.gov/pubmed/28880013   \n",
       "\n",
       "                                            keywords  \n",
       "0                                           keywords  \n",
       "1  BRCA testing; poly ADP-ribose polymerase (PARP...  \n",
       "2  EGFR-T790M mutation; NSCLC; cost-effective; co...  \n",
       "3                                                     \n",
       "4                                                     "
      ]
     },
     "execution_count": 57,
     "metadata": {},
     "output_type": "execute_result"
    }
   ],
   "source": [
    "conn = sqlite3.connect(\"db.sqlite3\")\n",
    "df = pd.read_sql_query(\"select * from pubmed_abstract limit 5;\", conn)\n",
    "conn.close()\n",
    "df.head()"
   ]
  },
  {
   "cell_type": "code",
   "execution_count": null,
   "metadata": {
    "collapsed": true
   },
   "outputs": [],
   "source": []
  },
  {
   "cell_type": "code",
   "execution_count": null,
   "metadata": {
    "collapsed": true
   },
   "outputs": [],
   "source": []
  },
  {
   "cell_type": "code",
   "execution_count": null,
   "metadata": {
    "collapsed": true
   },
   "outputs": [],
   "source": []
  }
 ],
 "metadata": {
  "kernelspec": {
   "display_name": "Python 3",
   "language": "python",
   "name": "python3"
  },
  "language_info": {
   "codemirror_mode": {
    "name": "ipython",
    "version": 3
   },
   "file_extension": ".py",
   "mimetype": "text/x-python",
   "name": "python",
   "nbconvert_exporter": "python",
   "pygments_lexer": "ipython3",
   "version": "3.6.1"
  }
 },
 "nbformat": 4,
 "nbformat_minor": 2
}
