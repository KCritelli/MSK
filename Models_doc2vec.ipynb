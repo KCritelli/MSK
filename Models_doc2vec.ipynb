{
 "cells": [
  {
   "cell_type": "code",
   "execution_count": 1,
   "metadata": {
    "collapsed": true
   },
   "outputs": [],
   "source": [
    "import pandas as pd\n",
    "import numpy as np\n",
    "%matplotlib inline"
   ]
  },
  {
   "cell_type": "code",
   "execution_count": 2,
   "metadata": {
    "collapsed": false
   },
   "outputs": [
    {
     "name": "stderr",
     "output_type": "stream",
     "text": [
      "/Users/Patrick/anaconda/lib/python3.5/site-packages/sklearn/cross_validation.py:41: DeprecationWarning: This module was deprecated in version 0.18 in favor of the model_selection module into which all the refactored classes and functions are moved. Also note that the interface of the new CV iterators are different from that of this module. This module will be removed in 0.20.\n",
      "  \"This module will be removed in 0.20.\", DeprecationWarning)\n"
     ]
    }
   ],
   "source": [
    "from sklearn.cross_validation import train_test_split"
   ]
  },
  {
   "cell_type": "code",
   "execution_count": 13,
   "metadata": {
    "collapsed": false
   },
   "outputs": [
    {
     "name": "stderr",
     "output_type": "stream",
     "text": [
      "/Users/Patrick/anaconda/lib/python3.5/site-packages/ipykernel/__main__.py:3: ParserWarning: Falling back to the 'python' engine because the 'c' engine does not support regex separators (separators > 1 char and different from '\\s+' are interpreted as regex); you can avoid this warning by specifying engine='python'.\n",
      "  app.launch_new_instance()\n",
      "/Users/Patrick/anaconda/lib/python3.5/site-packages/ipykernel/__main__.py:4: ParserWarning: Falling back to the 'python' engine because the 'c' engine does not support regex separators (separators > 1 char and different from '\\s+' are interpreted as regex); you can avoid this warning by specifying engine='python'.\n"
     ]
    }
   ],
   "source": [
    "df_train_var = pd.read_csv(\"Original_Data/training_variants\")\n",
    "df_test_var = pd.read_csv(\"Original_Data/test_variants\")\n",
    "df_train_txt = pd.read_csv('Original_Data/training_text', sep='\\|\\|', header=None, skiprows=1,names=[\"ID\",\"Text\"])\n",
    "df_test_txt = pd.read_csv('Original_Data/test_text', sep='\\|\\|', header=None, skiprows=1,names=[\"ID\",\"Text\"])"
   ]
  },
  {
   "cell_type": "code",
   "execution_count": 27,
   "metadata": {
    "collapsed": true
   },
   "outputs": [],
   "source": [
    "df_test_txt.to_pickle('df_test_txt.pkl')\n",
    "df_train_txt.to_pickle('df_train_txt.pkl')\n",
    "df_test_var.to_pickle('df_test_var.pkl')\n",
    "df_train_var.to_pickle('df_train_var.pkl')"
   ]
  },
  {
   "cell_type": "code",
   "execution_count": 3,
   "metadata": {
    "collapsed": true
   },
   "outputs": [],
   "source": [
    "df_test_txt = pd.read_pickle('df_test_txt.pkl')\n",
    "df_train_txt = pd.read_pickle('df_train_txt.pkl')\n",
    "df_test_var = pd.read_pickle('df_test_var.pkl')\n",
    "df_train_var = pd.read_pickle('df_train_var.pkl')"
   ]
  },
  {
   "cell_type": "code",
   "execution_count": 3,
   "metadata": {
    "collapsed": false
   },
   "outputs": [
    {
     "data": {
      "text/plain": [
       "array(['Truncating Mutations', 'W802*', 'Q249E', ..., 'A122*', 'R80C',\n",
       "       'K83E'], dtype=object)"
      ]
     },
     "execution_count": 3,
     "metadata": {},
     "output_type": "execute_result"
    }
   ],
   "source": [
    "df_train_var['Variation'].unique()"
   ]
  },
  {
   "cell_type": "code",
   "execution_count": 5,
   "metadata": {
    "collapsed": false
   },
   "outputs": [
    {
     "data": {
      "text/plain": [
       "'string sd ml ad P145A Punctuation'"
      ]
     },
     "execution_count": 5,
     "metadata": {},
     "output_type": "execute_result"
    }
   ],
   "source": [
    "import re\n",
    "from stop_words import get_stop_words\n",
    "\n",
    "stop_words = get_stop_words('english')\n",
    "\n",
    "def remove_pun(text):\n",
    "    s = re.sub(r'[^\\w\\s\\d]','',text)\n",
    "    s = re.sub(r'[\\s][\\d]+[\\s]', ' ', s)   \n",
    "    s = ' '.join([w for w in s.split() if not w.lower() in stop_words])\n",
    "    return s\n",
    "\n",
    "sent = \"string$%. sd 0.5 m*l With. 0.5 ad P145A Punctuation?\"\n",
    "sent = remove_pun(sent)\n",
    "sent"
   ]
  },
  {
   "cell_type": "code",
   "execution_count": 6,
   "metadata": {
    "collapsed": true
   },
   "outputs": [],
   "source": [
    "df_train_txt['Text_cleaned'] = df_train_txt.Text.apply(remove_pun)\n",
    "df_test_txt['Text_cleaned'] =  df_test_txt.Text.apply(remove_pun)"
   ]
  },
  {
   "cell_type": "code",
   "execution_count": 7,
   "metadata": {
    "collapsed": true
   },
   "outputs": [],
   "source": [
    "# merge text and var datasets\n",
    "# training datasets \n",
    "train_master = pd.merge(df_train_var, df_train_txt, how='left', on='ID').fillna('')\n",
    "\n",
    "# test datasets \n",
    "test_master = pd.merge(df_test_var, df_test_txt, how='left', on='ID').fillna('')"
   ]
  },
  {
   "cell_type": "code",
   "execution_count": 8,
   "metadata": {
    "collapsed": false
   },
   "outputs": [
    {
     "name": "stdout",
     "output_type": "stream",
     "text": [
      "   ID    Gene             Variation  Class  \\\n",
      "0   0  FAM58A  Truncating Mutations      1   \n",
      "1   1     CBL                 W802*      2   \n",
      "2   2     CBL                 Q249E      2   \n",
      "3   3     CBL                 N454D      3   \n",
      "4   4     CBL                 L399V      4   \n",
      "\n",
      "                                                Text  \\\n",
      "0  Cyclin-dependent kinases (CDKs) regulate a var...   \n",
      "1   Abstract Background  Non-small cell lung canc...   \n",
      "2   Abstract Background  Non-small cell lung canc...   \n",
      "3  Recent evidence has demonstrated that acquired...   \n",
      "4  Oncogenic mutations in the monomeric Casitas B...   \n",
      "\n",
      "                                        Text_cleaned  \n",
      "0  Cyclindependent kinases CDKs regulate variety ...  \n",
      "1  Abstract Background Nonsmall cell lung cancer ...  \n",
      "2  Abstract Background Nonsmall cell lung cancer ...  \n",
      "3  Recent evidence demonstrated acquired uniparen...  \n",
      "4  Oncogenic mutations monomeric Casitas Blineage...  \n",
      "   ID     Gene Variation                                               Text  \\\n",
      "0   0    ACSL4     R570S  2. This mutation resulted in a myeloproliferat...   \n",
      "1   1    NAGLU     P521L   Abstract The Large Tumor Suppressor 1 (LATS1)...   \n",
      "2   2      PAH     L333F  Vascular endothelial growth factor receptor (V...   \n",
      "3   3     ING1     A148D  Inflammatory myofibroblastic tumor (IMT) is a ...   \n",
      "4   4  TMEM216      G77A   Abstract Retinoblastoma is a pediatric retina...   \n",
      "\n",
      "                                        Text_cleaned  \n",
      "0  2 mutation resulted myeloproliferative phenoty...  \n",
      "1  Abstract Large Tumor Suppressor LATS1 serineth...  \n",
      "2  Vascular endothelial growth factor receptor VE...  \n",
      "3  Inflammatory myofibroblastic tumor IMT neoplas...  \n",
      "4  Abstract Retinoblastoma pediatric retinal tumo...  \n"
     ]
    }
   ],
   "source": [
    "print(train_master.head())\n",
    "print(test_master.head())"
   ]
  },
  {
   "cell_type": "code",
   "execution_count": 59,
   "metadata": {
    "collapsed": false
   },
   "outputs": [
    {
     "data": {
      "text/plain": [
       "ID              0\n",
       "Gene            0\n",
       "Variation       0\n",
       "Text            0\n",
       "Text_cleaned    0\n",
       "dtype: int64"
      ]
     },
     "execution_count": 59,
     "metadata": {},
     "output_type": "execute_result"
    }
   ],
   "source": [
    "#look at missingness\n",
    "\n",
    "test_master.apply(lambda x: sum(x.isnull().values), axis = 0)"
   ]
  },
  {
   "cell_type": "markdown",
   "metadata": {},
   "source": [
    "### Doc2Vec"
   ]
  },
  {
   "cell_type": "code",
   "execution_count": 10,
   "metadata": {
    "collapsed": true
   },
   "outputs": [],
   "source": [
    "#import packages\n",
    "\n",
    "import gensim\n",
    "from gensim.models.doc2vec import Doc2Vec, TaggedDocument\n",
    "import multiprocessing\n",
    "import os"
   ]
  },
  {
   "cell_type": "code",
   "execution_count": 11,
   "metadata": {
    "collapsed": true
   },
   "outputs": [],
   "source": [
    "LabeledSentence = gensim.models.doc2vec.LabeledSentence"
   ]
  },
  {
   "cell_type": "code",
   "execution_count": 12,
   "metadata": {
    "collapsed": true
   },
   "outputs": [],
   "source": [
    "# train/test splits\n",
    "\n",
    "X_train, X_test, y_train, y_test = train_test_split(train_master['Text_cleaned'], train_master['Class'], test_size=0.2, random_state=42)"
   ]
  },
  {
   "cell_type": "code",
   "execution_count": 13,
   "metadata": {
    "collapsed": true
   },
   "outputs": [],
   "source": [
    "X_new = test_master['Text_cleaned']"
   ]
  },
  {
   "cell_type": "code",
   "execution_count": 14,
   "metadata": {
    "collapsed": true
   },
   "outputs": [],
   "source": [
    "#Do some very minor text preprocessing\n",
    "def preprocessText(corpus):\n",
    "    corpus = [z.split() for z in corpus]\n",
    "    return corpus"
   ]
  },
  {
   "cell_type": "code",
   "execution_count": 15,
   "metadata": {
    "collapsed": true
   },
   "outputs": [],
   "source": [
    "X_train = preprocessText(X_train)\n",
    "X_test = preprocessText(X_test)\n",
    "X_new = preprocessText(X_new)"
   ]
  },
  {
   "cell_type": "code",
   "execution_count": 16,
   "metadata": {
    "collapsed": true
   },
   "outputs": [],
   "source": [
    "assert gensim.models.doc2vec.FAST_VERSION > -1, \"this will be painfully slow otherwise\""
   ]
  },
  {
   "cell_type": "code",
   "execution_count": 17,
   "metadata": {
    "collapsed": true
   },
   "outputs": [],
   "source": [
    "#Gensim's Doc2Vec implementation requires each document/paragraph to have a label associated with it.\n",
    "\n",
    "#We do this by using the LabeledSentence method. The format will be \"TRAIN_i\" or \"TEST_i\" where \"i\" is\n",
    "#a dummy index of the paper text.\n",
    "\n",
    "def labelizePapers(papers, label_type):\n",
    "    labelized = []\n",
    "    for i,v in enumerate(papers):\n",
    "        label = '%s_%s'%(label_type,i)\n",
    "        labelized.append(LabeledSentence(v, [label]))\n",
    "    return labelized"
   ]
  },
  {
   "cell_type": "code",
   "execution_count": 18,
   "metadata": {
    "collapsed": true
   },
   "outputs": [],
   "source": [
    "X_train = labelizePapers(X_train, 'TRAIN')\n",
    "X_test = labelizePapers(X_test, 'TEST')\n",
    "X_new = labelizePapers(X_new, 'UNSUP')"
   ]
  },
  {
   "cell_type": "code",
   "execution_count": 19,
   "metadata": {
    "collapsed": true
   },
   "outputs": [],
   "source": [
    "import itertools"
   ]
  },
  {
   "cell_type": "code",
   "execution_count": 20,
   "metadata": {
    "collapsed": true
   },
   "outputs": [],
   "source": [
    "#instantiate our DM and DBOW models\n",
    "d2v_model_dm = gensim.models.Doc2Vec(min_count=3, window=7, size=400, sample=1e-3, negative=5, workers=cores)\n",
    "d2v_model_dbow = gensim.models.Doc2Vec(min_count=3, window=7, size=400, sample=1e-3, negative=5, dm=0, workers=cores)\n"
   ]
  },
  {
   "cell_type": "code",
   "execution_count": 21,
   "metadata": {
    "collapsed": true
   },
   "outputs": [],
   "source": [
    "#build vocab over all reviews\n",
    "X_all = X_train + X_test + X_new\n",
    "\n",
    "d2v_model_dm.build_vocab(X_all)\n",
    "d2v_model_dbow.build_vocab(X_all)\n"
   ]
  },
  {
   "cell_type": "code",
   "execution_count": 22,
   "metadata": {
    "collapsed": false
   },
   "outputs": [
    {
     "data": {
      "text/plain": [
       "228822356"
      ]
     },
     "execution_count": 22,
     "metadata": {},
     "output_type": "execute_result"
    }
   ],
   "source": [
    "# train the DM model on the training set\n",
    "# replace X_train with X_all\n",
    "# WARNING: TAKES 2.25 HOURS TO RUN ON PMP'S COMPUTER\n",
    "\n",
    "d2v_model_dm.train(X_all,\n",
    "                   total_examples=d2v_model_dm.corpus_count,\n",
    "                   epochs=d2v_model_dm.iter)\n"
   ]
  },
  {
   "cell_type": "code",
   "execution_count": 100,
   "metadata": {
    "collapsed": false
   },
   "outputs": [
    {
     "data": {
      "text/plain": [
       "65897595"
      ]
     },
     "execution_count": 100,
     "metadata": {},
     "output_type": "execute_result"
    }
   ],
   "source": [
    "# train the DBOW model on training set\n",
    "\n",
    "d2v_model_dbow.train(X_all,\n",
    "                     total_examples=d2v_model_dbow.corpus_count,\n",
    "                     epochs=d2v_model_dbow.iter)\n"
   ]
  },
  {
   "cell_type": "code",
   "execution_count": 23,
   "metadata": {
    "collapsed": true
   },
   "outputs": [],
   "source": [
    "d2v_model_dm.save('models/doc2vec_dm')"
   ]
  },
  {
   "cell_type": "code",
   "execution_count": 101,
   "metadata": {
    "collapsed": true
   },
   "outputs": [],
   "source": [
    "# save the two models\n",
    "os.makedirs('models')\n",
    "d2v_model_dm.save('models/doc2vec_dm')\n",
    "\n",
    "d2v_model_dbow.save('models/doc2vec_dbow')"
   ]
  },
  {
   "cell_type": "code",
   "execution_count": 24,
   "metadata": {
    "collapsed": true
   },
   "outputs": [],
   "source": [
    "# infer DM vectors for training set and save to a list\n",
    "# WARNING: TAKES 15 MINUTES ON PMP'S COMPUTER\n",
    "\n",
    "train_vecs_dm = []\n",
    "\n",
    "for doc in X_train:\n",
    "    vec = d2v_model_dm.infer_vector(doc.words)\n",
    "    train_vecs_dm.append(vec)\n"
   ]
  },
  {
   "cell_type": "code",
   "execution_count": 106,
   "metadata": {
    "collapsed": true
   },
   "outputs": [],
   "source": [
    "# infer DBOW vectors for training set and save to a list\n",
    "train_vecs_dbow = []\n",
    "\n",
    "for doc in X_train:\n",
    "    vec = d2v_model_dbow.infer_vector(doc.words)\n",
    "    train_vecs_dbow.append(vec)"
   ]
  },
  {
   "cell_type": "code",
   "execution_count": 107,
   "metadata": {
    "collapsed": false
   },
   "outputs": [
    {
     "data": {
      "text/plain": [
       "17322807"
      ]
     },
     "execution_count": 107,
     "metadata": {},
     "output_type": "execute_result"
    }
   ],
   "source": [
    "# train the DM model on the test set\n",
    "\n",
    "d2v_model_dm.train(X_test,\n",
    "                   total_examples=d2v_model_dm.corpus_count,\n",
    "                   epochs=d2v_model_dm.iter)"
   ]
  },
  {
   "cell_type": "code",
   "execution_count": 108,
   "metadata": {
    "collapsed": false
   },
   "outputs": [
    {
     "data": {
      "text/plain": [
       "17323012"
      ]
     },
     "execution_count": 108,
     "metadata": {},
     "output_type": "execute_result"
    }
   ],
   "source": [
    "# train the DBOW model on test set\n",
    "\n",
    "d2v_model_dbow.train(X_test,\n",
    "                     total_examples=d2v_model_dbow.corpus_count,\n",
    "                     epochs=d2v_model_dbow.iter)\n"
   ]
  },
  {
   "cell_type": "code",
   "execution_count": 25,
   "metadata": {
    "collapsed": true
   },
   "outputs": [],
   "source": [
    "# infer DM vectors for test set and save to a list\n",
    "# WARNING: TAKES 5 MINS ON PMP'S COMPUTER\n",
    "\n",
    "test_vecs_dm = []\n",
    "\n",
    "for doc in X_test:\n",
    "    vec = d2v_model_dm.infer_vector(doc.words)\n",
    "    test_vecs_dm.append(vec)"
   ]
  },
  {
   "cell_type": "code",
   "execution_count": 110,
   "metadata": {
    "collapsed": true
   },
   "outputs": [],
   "source": [
    "# infer DBOW vectors for test set and save to a list\n",
    "\n",
    "test_vecs_dbow = []\n",
    "\n",
    "for doc in X_test:\n",
    "    vec = d2v_model_dbow.infer_vector(doc.words)\n",
    "    test_vecs_dbow.append(vec)"
   ]
  },
  {
   "cell_type": "markdown",
   "metadata": {},
   "source": [
    "### SGD Classifier"
   ]
  },
  {
   "cell_type": "code",
   "execution_count": 34,
   "metadata": {
    "collapsed": false
   },
   "outputs": [
    {
     "name": "stderr",
     "output_type": "stream",
     "text": [
      "/Users/Patrick/anaconda/lib/python3.5/site-packages/sklearn/linear_model/stochastic_gradient.py:84: FutureWarning: max_iter and tol parameters have been added in <class 'sklearn.linear_model.stochastic_gradient.SGDClassifier'> in 0.19. If both are left unset, they default to max_iter=5 and tol=None. If tol is not None, max_iter defaults to max_iter=1000. From 0.21, default max_iter will be 1000, and default tol will be 1e-3.\n",
      "  \"and default tol will be 1e-3.\" % type(self), FutureWarning)\n"
     ]
    },
    {
     "name": "stdout",
     "output_type": "stream",
     "text": [
      "DM Test Accuracy: 0.55\n"
     ]
    }
   ],
   "source": [
    "from sklearn.linear_model import SGDClassifier\n",
    "\n",
    "# train \n",
    "\n",
    "lr_dm = SGDClassifier(loss='log', penalty='l1', class_weight='balanced')\n",
    "lr_dm.fit(train_vecs_dm, y_train)\n",
    "\n",
    "print('DM Test Accuracy: %.2f'%lr_dm.score(test_vecs_dm, y_test))"
   ]
  },
  {
   "cell_type": "code",
   "execution_count": 128,
   "metadata": {
    "collapsed": true
   },
   "outputs": [],
   "source": [
    "# save SGD model\n",
    "import pickle\n",
    "\n",
    "pickle.dump(lr_dm, open('models/sgd_dm_model.sav', 'wb'))"
   ]
  },
  {
   "cell_type": "code",
   "execution_count": 129,
   "metadata": {
    "collapsed": true
   },
   "outputs": [],
   "source": [
    "# read in the saved model\n",
    "sgd_lm_model = pickle.load(open('models/sgd_dm_model.sav', 'rb'))"
   ]
  },
  {
   "cell_type": "code",
   "execution_count": 130,
   "metadata": {
    "collapsed": false
   },
   "outputs": [
    {
     "data": {
      "text/plain": [
       "0.55338345864661653"
      ]
     },
     "execution_count": 130,
     "metadata": {},
     "output_type": "execute_result"
    }
   ],
   "source": [
    "sgd_lm_model.score(test_vecs_dm, y_test)"
   ]
  },
  {
   "cell_type": "code",
   "execution_count": 114,
   "metadata": {
    "collapsed": false
   },
   "outputs": [
    {
     "name": "stderr",
     "output_type": "stream",
     "text": [
      "/Users/Patrick/anaconda/lib/python3.5/site-packages/sklearn/linear_model/stochastic_gradient.py:84: FutureWarning: max_iter and tol parameters have been added in <class 'sklearn.linear_model.stochastic_gradient.SGDClassifier'> in 0.19. If both are left unset, they default to max_iter=5 and tol=None. If tol is not None, max_iter defaults to max_iter=1000. From 0.21, default max_iter will be 1000, and default tol will be 1e-3.\n",
      "  \"and default tol will be 1e-3.\" % type(self), FutureWarning)\n"
     ]
    },
    {
     "name": "stdout",
     "output_type": "stream",
     "text": [
      "DBOW Test Accuracy: 0.47\n"
     ]
    }
   ],
   "source": [
    "lr_dbow = SGDClassifier(loss='log', penalty='l1',class_weight='balanced')\n",
    "lr_dbow.fit(train_vecs_dbow, y_train)\n",
    "\n",
    "print('DBOW Test Accuracy: %.2f'%lr_dbow.score(test_vecs_dbow, y_test))"
   ]
  },
  {
   "cell_type": "code",
   "execution_count": 35,
   "metadata": {
    "collapsed": false
   },
   "outputs": [],
   "source": [
    "# save the predicted classes\n",
    "test_predict_dm = lr_dm.predict(test_vecs_dm)"
   ]
  },
  {
   "cell_type": "code",
   "execution_count": 30,
   "metadata": {
    "collapsed": true
   },
   "outputs": [],
   "source": [
    "import sklearn"
   ]
  },
  {
   "cell_type": "code",
   "execution_count": 36,
   "metadata": {
    "collapsed": false
   },
   "outputs": [
    {
     "name": "stdout",
     "output_type": "stream",
     "text": [
      "confusion_matrix:\n",
      " [[ 73   5   1  19   7   4   5   0   0]\n",
      " [  8  43   1   2   5   6  31   0   0]\n",
      " [  2   1  11   3   1   0   1   0   0]\n",
      " [ 34   7   5  78   5   5   5   0   0]\n",
      " [ 17   7   1   8  11   3   3   0   0]\n",
      " [  4   2   0   3   4  31   1   0   0]\n",
      " [  6  33   3  11  10  11 117   1   2]\n",
      " [  0   0   0   0   0   0   1   0   0]\n",
      " [  1   0   0   1   0   0   0   1   4]]\n"
     ]
    }
   ],
   "source": [
    "print('confusion_matrix:\\n', sklearn.metrics.confusion_matrix(y_test,test_predict_dm))"
   ]
  },
  {
   "cell_type": "markdown",
   "metadata": {},
   "source": [
    "### Support Vector Classifier"
   ]
  },
  {
   "cell_type": "code",
   "execution_count": 39,
   "metadata": {
    "collapsed": false
   },
   "outputs": [
    {
     "name": "stdout",
     "output_type": "stream",
     "text": [
      "Accuracy score: 0.609022556391\n",
      "confusion_matrix:\n",
      " [[ 80   6   1  12  11   2   2   0   0]\n",
      " [  3  53   0   0   5   2  33   0   0]\n",
      " [  2   0  13   2   0   0   2   0   0]\n",
      " [ 43   6   4  69   9   2   6   0   0]\n",
      " [  9   3   1   3  25   4   5   0   0]\n",
      " [  4   3   0   1   3  32   2   0   0]\n",
      " [  3  42   9   3   9   0 128   0   0]\n",
      " [  0   0   0   0   0   0   1   0   0]\n",
      " [  0   1   0   0   1   0   0   0   5]]\n"
     ]
    }
   ],
   "source": [
    "from sklearn.svm import SVC\n",
    "\n",
    "svm = SVC(class_weight='balanced') ### NOTE: balanced has worse score than 'None', but balanced better in theory\n",
    "svm.fit(train_vecs_dm, y_train)\n",
    "\n",
    "print('Accuracy score: ' + str(svm.score(test_vecs_dm, y_test)))\n",
    "svm_pred = svm.predict(test_vecs_dm)\n",
    "\n",
    "print('confusion_matrix:\\n', sklearn.metrics.confusion_matrix(y_test,svm_pred))"
   ]
  },
  {
   "cell_type": "code",
   "execution_count": 131,
   "metadata": {
    "collapsed": true
   },
   "outputs": [],
   "source": [
    "# save SVM model\n",
    "\n",
    "pickle.dump(svm, open('models/svm_dm_model.sav', 'wb'))"
   ]
  },
  {
   "cell_type": "code",
   "execution_count": 132,
   "metadata": {
    "collapsed": true
   },
   "outputs": [],
   "source": [
    "# read in the saved model\n",
    "svm_lm_model = pickle.load(open('models/svm_dm_model.sav', 'rb'))"
   ]
  },
  {
   "cell_type": "markdown",
   "metadata": {},
   "source": [
    "### Multinomial Logistic Classifier"
   ]
  },
  {
   "cell_type": "code",
   "execution_count": 54,
   "metadata": {
    "collapsed": false
   },
   "outputs": [
    {
     "name": "stdout",
     "output_type": "stream",
     "text": [
      "Accuracy score: 0.595488721805\n",
      "confusion_matrix:\n",
      " [[ 76   7   0  15   9   5   2   0   0]\n",
      " [  3  42   2   0   5   6  37   0   1]\n",
      " [  2   0  12   2   0   0   3   0   0]\n",
      " [ 27   2   3  76  13   7   8   0   3]\n",
      " [ 12   3   1   7  18   4   5   0   0]\n",
      " [  5   0   1   3   2  31   3   0   0]\n",
      " [  3  25  10   5  11   1 137   1   1]\n",
      " [  0   0   0   0   0   0   1   0   0]\n",
      " [  0   1   0   0   1   0   0   1   4]]\n"
     ]
    }
   ],
   "source": [
    "## NOTE - next , do grid search on C (from 1e-4 to 1e5), multi-class\n",
    "\n",
    "from sklearn.linear_model import LogisticRegression\n",
    "\n",
    "multinomial = LogisticRegression(multi_class='ovr', ### one-vs-rest\n",
    "                                 class_weight='balanced',\n",
    "                                 solver='liblinear',\n",
    "                                 penalty='l1',\n",
    "                                 C=.1)\n",
    "\n",
    "multinomial.fit(train_vecs_dm, y_train)\n",
    "print('Accuracy score: ' + str(multinomial.score(test_vecs_dm, y_test)))\n",
    "multinomial_pred = multinomial.predict(test_vecs_dm)\n",
    "\n",
    "print('confusion_matrix:\\n', sklearn.metrics.confusion_matrix(y_test,multinomial_pred))"
   ]
  },
  {
   "cell_type": "code",
   "execution_count": 133,
   "metadata": {
    "collapsed": true
   },
   "outputs": [],
   "source": [
    "# save Multinomial Logistic Classification model\n",
    "\n",
    "pickle.dump(multinomial, open('models/multinomiallog_dm_model.sav', 'wb'))"
   ]
  },
  {
   "cell_type": "code",
   "execution_count": 134,
   "metadata": {
    "collapsed": true
   },
   "outputs": [],
   "source": [
    "# read in the saved model\n",
    "multinomiallog_lm_model = pickle.load(open('models/multinomiallog_dm_model.sav', 'rb'))"
   ]
  },
  {
   "cell_type": "code",
   "execution_count": 45,
   "metadata": {
    "collapsed": true
   },
   "outputs": [],
   "source": [
    "# Multinomial Logistic CLassifier with 10 fold CV on C\n",
    "from sklearn.model_selection import GridSearchCV, KFold, cross_val_score\n",
    "\n",
    "#CV\n",
    "C_range = [.0001,.001,.01,.1,1,10,100,1000,10000]\n",
    "\n",
    "# empty list that will hold cv scores\n",
    "cv_scores = []\n",
    "\n",
    "# perform 10-fold cross validation\n",
    "for c in C_range:\n",
    "    multinomial = LogisticRegression(multi_class='ovr', \n",
    "                                 class_weight='balanced',\n",
    "                                 solver='liblinear',\n",
    "                                 penalty='l1',\n",
    "                                 C=c)\n",
    "    scores = cross_val_score(multinomial, train_vecs_dm, y_train, cv=10)\n",
    "    cv_scores.append(scores.mean())"
   ]
  },
  {
   "cell_type": "code",
   "execution_count": 46,
   "metadata": {
    "collapsed": false
   },
   "outputs": [
    {
     "data": {
      "text/plain": [
       "0.1"
      ]
     },
     "execution_count": 46,
     "metadata": {},
     "output_type": "execute_result"
    }
   ],
   "source": [
    "optimal_C = C_range[cv_scores.index(max(cv_scores))]\n",
    "optimal_C"
   ]
  },
  {
   "cell_type": "code",
   "execution_count": 55,
   "metadata": {
    "collapsed": false
   },
   "outputs": [
    {
     "data": {
      "text/plain": [
       "[0.17093229881377797,\n",
       " 0.28687536391160434,\n",
       " 0.40138085735626594,\n",
       " 0.5530753109253852,\n",
       " 0.52669123513238547,\n",
       " 0.480764825222881,\n",
       " 0.47471393406455975,\n",
       " 0.47470830383856877,\n",
       " 0.47281854403305906]"
      ]
     },
     "execution_count": 55,
     "metadata": {},
     "output_type": "execute_result"
    }
   ],
   "source": [
    "cv_scores"
   ]
  },
  {
   "cell_type": "code",
   "execution_count": 51,
   "metadata": {
    "collapsed": false
   },
   "outputs": [
    {
     "data": {
      "image/png": "[encoded data removed]",
      "text/plain": [
       "<matplotlib.figure.Figure at 0x2c50c60b8>"
      ]
     },
     "metadata": {},
     "output_type": "display_data"
    }
   ],
   "source": [
    "import matplotlib.pyplot as plt\n",
    "\n",
    "plt.figure(figsize=(15,10))\n",
    "plt.plot(C_range, cv_scores)\n",
    "plt.xlabel('C Value', fontsize = 20)\n",
    "plt.ylabel('Accuracy Score', fontsize = 20)\n",
    "plt.xticks(fontsize = 16)\n",
    "plt.yticks(fontsize = 16)\n",
    "\n",
    "plt.show()\n",
    "#plt.savefig('knn_cross_valid.png')"
   ]
  },
  {
   "cell_type": "markdown",
   "metadata": {},
   "source": [
    "### Random Forest"
   ]
  },
  {
   "cell_type": "code",
   "execution_count": 68,
   "metadata": {
    "collapsed": false
   },
   "outputs": [
    {
     "name": "stdout",
     "output_type": "stream",
     "text": [
      "Accuracy score: 0.639097744361\n",
      "confusion_matrix:\n",
      " [[ 73   2   0  16   9   1  13   0   0]\n",
      " [  4  32   0   0   4   1  55   0   0]\n",
      " [  2   0   9   2   0   0   6   0   0]\n",
      " [ 35   1   1  81   5   1  15   0   0]\n",
      " [ 11   1   0   8  18   3   9   0   0]\n",
      " [  6   0   0   1   1  31   6   0   0]\n",
      " [  1   8   3   3   3   0 176   0   0]\n",
      " [  0   0   0   0   0   0   1   0   0]\n",
      " [  0   0   0   0   1   0   1   0   5]]\n"
     ]
    }
   ],
   "source": [
    "# RF single shot\n",
    "\n",
    "from sklearn.ensemble import RandomForestClassifier\n",
    "rf = RandomForestClassifier(n_jobs=-1,\n",
    "                            random_state=51,\n",
    "                            n_estimators=900,  ### do gridsearch >100\n",
    "                            max_depth=40,\n",
    "                            min_samples_leaf=5,  \n",
    "                            oob_score=True,\n",
    "                            class_weight='balanced'\n",
    "                           )\n",
    "\n",
    "rf.fit(train_vecs_dm, y_train)\n",
    "print('Accuracy score: ' + str(rf.score(test_vecs_dm, y_test)))\n",
    "rf_pred = rf.predict(test_vecs_dm)\n",
    "\n",
    "print('confusion_matrix:\\n', sklearn.metrics.confusion_matrix(y_test,rf_pred))"
   ]
  },
  {
   "cell_type": "code",
   "execution_count": 70,
   "metadata": {
    "collapsed": false
   },
   "outputs": [
    {
     "data": {
      "text/plain": [
       "GridSearchCV(cv=5, error_score='raise',\n",
       "       estimator=RandomForestClassifier(bootstrap=True, class_weight='balanced',\n",
       "            criterion='gini', max_depth=None, max_features='auto',\n",
       "            max_leaf_nodes=None, min_impurity_decrease=0.0,\n",
       "            min_impurity_split=None, min_samples_leaf=1,\n",
       "            min_samples_split=2, min_weight_fraction_leaf=0.0,\n",
       "            n_estimators=10, n_jobs=-1, oob_score=True, random_state=51,\n",
       "            verbose=0, warm_start=False),\n",
       "       fit_params=None, iid=True, n_jobs=1,\n",
       "       param_grid={'min_samples_leaf': [5, 10, 15], 'n_estimators': [900], 'max_features': [15, 20, 25], 'max_depth': [20, 30, 40]},\n",
       "       pre_dispatch='2*n_jobs', refit=True, return_train_score=True,\n",
       "       scoring=None, verbose=0)"
      ]
     },
     "execution_count": 70,
     "metadata": {},
     "output_type": "execute_result"
    }
   ],
   "source": [
    "# RF Grid Search CV\n",
    "\n",
    "rf_params = {'n_estimators':[900],\n",
    "              'max_depth':[20,30,40],\n",
    "              'max_features':[15,20,25],\n",
    "              'min_samples_leaf':[5,10,15]\n",
    "             }\n",
    "\n",
    "rf = RandomForestClassifier(n_jobs=-1,\n",
    "                            random_state=51,\n",
    "                            oob_score=True,\n",
    "                            class_weight='balanced'\n",
    "                           )\n",
    "\n",
    "rf_cv = GridSearchCV(rf,\n",
    "                     param_grid=rf_params,\n",
    "                     cv=5)\n",
    "\n",
    "rf_cv.fit(train_vecs_dm, y_train)"
   ]
  },
  {
   "cell_type": "code",
   "execution_count": 71,
   "metadata": {
    "collapsed": false
   },
   "outputs": [
    {
     "name": "stdout",
     "output_type": "stream",
     "text": [
      "{'min_samples_leaf': 5, 'max_features': 15, 'n_estimators': 900, 'max_depth': 20}\n"
     ]
    }
   ],
   "source": [
    "print(rf_cv.best_params_)"
   ]
  },
  {
   "cell_type": "code",
   "execution_count": 72,
   "metadata": {
    "collapsed": true
   },
   "outputs": [],
   "source": [
    "y_rf_pred = rf_cv.best_estimator_.predict(test_vecs_dm)"
   ]
  },
  {
   "cell_type": "code",
   "execution_count": 73,
   "metadata": {
    "collapsed": false
   },
   "outputs": [
    {
     "name": "stdout",
     "output_type": "stream",
     "text": [
      "Accuracy score: 0.640601503759\n",
      "confusion_matrix:\n",
      " [[ 77   2   0  12   8   2  13   0   0]\n",
      " [  3  32   0   0   4   1  56   0   0]\n",
      " [  2   0   9   2   0   0   6   0   0]\n",
      " [ 31   1   1  82   5   1  18   0   0]\n",
      " [ 14   0   0   7  16   3  10   0   0]\n",
      " [  6   0   0   1   1  31   6   0   0]\n",
      " [  2   9   3   3   3   0 174   0   0]\n",
      " [  0   0   0   0   0   0   1   0   0]\n",
      " [  0   0   0   0   1   0   1   0   5]]\n"
     ]
    }
   ],
   "source": [
    "print('Accuracy score: ' + str(rf_cv.best_estimator_.score(test_vecs_dm, y_test)))\n",
    "\n",
    "print('confusion_matrix:\\n', sklearn.metrics.confusion_matrix(y_test,y_rf_pred))"
   ]
  },
  {
   "cell_type": "code",
   "execution_count": 135,
   "metadata": {
    "collapsed": true
   },
   "outputs": [],
   "source": [
    "# save RF model\n",
    "\n",
    "pickle.dump(rf_cv.best_estimator_, open('models/rf_dm_model.sav', 'wb'))"
   ]
  },
  {
   "cell_type": "code",
   "execution_count": 136,
   "metadata": {
    "collapsed": true
   },
   "outputs": [],
   "source": [
    "# read in the saved model\n",
    "rf_lm_model = pickle.load(open('models/rf_dm_model.sav', 'rb'))"
   ]
  },
  {
   "cell_type": "markdown",
   "metadata": {},
   "source": [
    "### Gradient Boosting Model"
   ]
  },
  {
   "cell_type": "code",
   "execution_count": 75,
   "metadata": {
    "collapsed": false
   },
   "outputs": [
    {
     "name": "stdout",
     "output_type": "stream",
     "text": [
      "Accuracy score: 0.651127819549\n",
      "confusion_matrix:\n",
      " [[ 85   2   0  16   5   1   5   0   0]\n",
      " [  4  29   0   0   4   1  58   0   0]\n",
      " [  2   0   4   3   0   0  10   0   0]\n",
      " [ 31   0   0  91   1   1  15   0   0]\n",
      " [ 17   0   0  11  10   2  10   0   0]\n",
      " [  6   0   0   1   1  31   6   0   0]\n",
      " [  1   6   1   4   2   0 180   0   0]\n",
      " [  0   0   0   0   0   0   1   0   0]\n",
      " [  1   0   0   0   1   0   2   0   3]]\n"
     ]
    }
   ],
   "source": [
    "# GBM single shot\n",
    "\n",
    "from sklearn.ensemble import GradientBoostingClassifier\n",
    "\n",
    "gb = GradientBoostingClassifier(learning_rate=.01,\n",
    "                                random_state=13,\n",
    "                                n_estimators=600,\n",
    "                                max_features=15,\n",
    "                                max_depth=20,\n",
    "                                min_samples_leaf=5\n",
    "                               )\n",
    "\n",
    "gb.fit(train_vecs_dm, y_train)\n",
    "print('Accuracy score: ' + str(gb.score(test_vecs_dm, y_test)))\n",
    "gb_pred = gb.predict(test_vecs_dm)\n",
    "\n",
    "print('confusion_matrix:\\n', sklearn.metrics.confusion_matrix(y_test,gb_pred))"
   ]
  },
  {
   "cell_type": "code",
   "execution_count": 138,
   "metadata": {
    "collapsed": false
   },
   "outputs": [],
   "source": [
    "# save GBM model\n",
    "\n",
    "pickle.dump(gb, open('models/gbm_dm_model.sav', 'wb'))"
   ]
  },
  {
   "cell_type": "code",
   "execution_count": 139,
   "metadata": {
    "collapsed": true
   },
   "outputs": [],
   "source": [
    "# read in the saved model\n",
    "gbm_lm_model = pickle.load(open('models/gbm_dm_model.sav', 'rb'))"
   ]
  },
  {
   "cell_type": "code",
   "execution_count": null,
   "metadata": {
    "collapsed": true
   },
   "outputs": [],
   "source": [
    "# GBM grid search CV\n",
    "\n",
    "parameters = {'n_estimators':[600,700,800],\n",
    "              'learning_rate':[0.01,0.03,0.05]\n",
    "             }\n",
    "\n",
    "\n",
    "gb_reg = GradientBoostingClassifier(random_state=13,\n",
    "                                    n_jobs=-1,\n",
    "                                    max_depth=30,\n",
    "                                    min_samples_leaf=5\n",
    "                                   )\n",
    "\n",
    "gb_cv = GridSearchCV(gb_reg,\n",
    "                     param_grid=parameters,\n",
    "                     cv=5)\n",
    "\n",
    "gb_cv.fit(train_vecs_dm, y_train)"
   ]
  },
  {
   "cell_type": "markdown",
   "metadata": {},
   "source": [
    "### Multinomial Naive Bayes\n",
    "#### Note: this is tough for Doc2Vec because some of the features (doc similarity vectors) are negative,\n",
    "#### and MNB doesn't take negative inputs, so we have to scale them"
   ]
  },
  {
   "cell_type": "code",
   "execution_count": 89,
   "metadata": {
    "collapsed": false
   },
   "outputs": [],
   "source": [
    "from sklearn.preprocessing import MinMaxScaler\n",
    "\n",
    "scaler = MinMaxScaler()\n",
    "\n",
    "scaler.fit(train_vecs_dm)\n",
    "train_vecs_dm_scaled = scaler.transform(train_vecs_dm)\n",
    "\n",
    "scaler.fit(test_vecs_dm)\n",
    "test_vecs_dm_scaled = scaler.transform(test_vecs_dm)\n"
   ]
  },
  {
   "cell_type": "code",
   "execution_count": 91,
   "metadata": {
    "collapsed": false
   },
   "outputs": [
    {
     "name": "stdout",
     "output_type": "stream",
     "text": [
      "Accuracy score: 0.485714285714\n",
      "confusion_matrix:\n",
      " [[ 40   0   0  24   4   1  45   0   0]\n",
      " [  0   0   0   0   0   0  96   0   0]\n",
      " [  2   0   0   4   2   0  11   0   0]\n",
      " [ 27   0   0  57   5   0  50   0   0]\n",
      " [  6   0   0  11  14   5  14   0   0]\n",
      " [  0   0   0   6   0  21  18   0   0]\n",
      " [  3   0   0   3   0   0 188   0   0]\n",
      " [  0   0   0   0   0   0   1   0   0]\n",
      " [  0   0   0   0   0   0   4   0   3]]\n"
     ]
    }
   ],
   "source": [
    "# MNB single shot\n",
    "\n",
    "from sklearn.naive_bayes import MultinomialNB\n",
    "\n",
    "mnb = MultinomialNB()\n",
    "\n",
    "mnb.fit(train_vecs_dm_scaled, y_train)\n",
    "print('Accuracy score: ' + str(mnb.score(test_vecs_dm_scaled, y_test)))\n",
    "mnb_pred = mnb.predict(test_vecs_dm_scaled)\n",
    "\n",
    "print('confusion_matrix:\\n', sklearn.metrics.confusion_matrix(y_test,mnb_pred))"
   ]
  },
  {
   "cell_type": "code",
   "execution_count": 140,
   "metadata": {
    "collapsed": true
   },
   "outputs": [],
   "source": [
    "# save Multinomial Naive Bayes model\n",
    "\n",
    "pickle.dump(mnb, open('models/mnb_dm_model.sav', 'wb'))"
   ]
  },
  {
   "cell_type": "code",
   "execution_count": 141,
   "metadata": {
    "collapsed": true
   },
   "outputs": [],
   "source": [
    "# read in the saved model\n",
    "mnb_lm_model = pickle.load(open('models/mnb_dm_model.sav', 'rb'))"
   ]
  },
  {
   "cell_type": "markdown",
   "metadata": {},
   "source": [
    "### Gaussian Naive Bayes\n",
    "#### Can take negative inputs"
   ]
  },
  {
   "cell_type": "code",
   "execution_count": 92,
   "metadata": {
    "collapsed": false
   },
   "outputs": [
    {
     "name": "stdout",
     "output_type": "stream",
     "text": [
      "Accuracy score: 0.494736842105\n",
      "confusion_matrix:\n",
      " [[ 57   9   5  19  18   2   3   1   0]\n",
      " [  2  43   8   8   4   1  30   0   0]\n",
      " [  2   0  15   1   0   0   1   0   0]\n",
      " [ 55   5  14  41  11   1  11   1   0]\n",
      " [ 10   3   1   4  24   3   5   0   0]\n",
      " [  4   2   2   3   0  29   5   0   0]\n",
      " [  6  39  19   6   4   2 116   2   0]\n",
      " [  0   0   0   0   0   0   1   0   0]\n",
      " [  0   1   0   0   1   0   0   1   4]]\n"
     ]
    }
   ],
   "source": [
    "from sklearn.naive_bayes import GaussianNB\n",
    "\n",
    "gnb = GaussianNB()\n",
    "\n",
    "gnb.fit(train_vecs_dm, y_train)\n",
    "print('Accuracy score: ' + str(gnb.score(test_vecs_dm, y_test)))\n",
    "gnb_pred = gnb.predict(test_vecs_dm)\n",
    "\n",
    "print('confusion_matrix:\\n', sklearn.metrics.confusion_matrix(y_test,gnb_pred))\n"
   ]
  },
  {
   "cell_type": "code",
   "execution_count": 142,
   "metadata": {
    "collapsed": true
   },
   "outputs": [],
   "source": [
    "# save Gaussian Naive Bayes model\n",
    "\n",
    "pickle.dump(gnb, open('models/gnb_dm_model.sav', 'wb'))"
   ]
  },
  {
   "cell_type": "code",
   "execution_count": 143,
   "metadata": {
    "collapsed": true
   },
   "outputs": [],
   "source": [
    "# read in the saved model\n",
    "gnb_lm_model = pickle.load(open('models/gnb_dm_model.sav', 'rb'))"
   ]
  },
  {
   "cell_type": "markdown",
   "metadata": {},
   "source": [
    "### XGBoost"
   ]
  },
  {
   "cell_type": "code",
   "execution_count": 118,
   "metadata": {
    "collapsed": false
   },
   "outputs": [],
   "source": [
    "# Convert the train_vecs_dm and test_vecs_dm lists of np arrays to pd dfs for XGBoost\n",
    "\n",
    "nrow_train = list(range(len(train_vecs_dm)))\n",
    "nrow_test = list(range(len(test_vecs_dm)))\n",
    "\n",
    "df_4 = pd.DataFrame.from_items(zip(nrow_train, train_vecs_dm))\n",
    "xgb_train_vecs_dm = pd.DataFrame.transpose(df_4)\n",
    "\n",
    "df_5 = pd.DataFrame.from_items(zip(nrow_test, test_vecs_dm))\n",
    "xgb_test_vecs_dm = pd.DataFrame.transpose(df_5)"
   ]
  },
  {
   "cell_type": "code",
   "execution_count": 117,
   "metadata": {
    "collapsed": false
   },
   "outputs": [
    {
     "data": {
      "text/plain": [
       "pandas.core.series.Series"
      ]
     },
     "execution_count": 117,
     "metadata": {},
     "output_type": "execute_result"
    }
   ],
   "source": [
    "type(y_train)"
   ]
  },
  {
   "cell_type": "code",
   "execution_count": 120,
   "metadata": {
    "collapsed": true
   },
   "outputs": [],
   "source": [
    "import xgboost as xgb\n",
    "\n",
    "xgbtrain = xgb.DMatrix(xgb_train_vecs_dm.values)\n",
    "xgbtest = xgb.DMatrix(xgb_test_vecs_dm.values)"
   ]
  },
  {
   "cell_type": "code",
   "execution_count": 125,
   "metadata": {
    "collapsed": false
   },
   "outputs": [
    {
     "data": {
      "text/plain": [
       "pandas.core.frame.DataFrame"
      ]
     },
     "execution_count": 125,
     "metadata": {},
     "output_type": "execute_result"
    }
   ],
   "source": [
    "type(xgb_train_vecs_dm)"
   ]
  },
  {
   "cell_type": "code",
   "execution_count": 126,
   "metadata": {
    "collapsed": false
   },
   "outputs": [
    {
     "name": "stdout",
     "output_type": "stream",
     "text": [
      "Accuracy score: 0.666165413534\n",
      "confusion_matrix:\n",
      " [[ 83   2   0  18   4   2   5   0   0]\n",
      " [  5  33   0   0   5   1  52   0   0]\n",
      " [  2   0   6   3   0   0   8   0   0]\n",
      " [ 29   2   0  97   1   1   9   0   0]\n",
      " [ 15   1   0  13  10   2   9   0   0]\n",
      " [  6   0   0   2   1  30   6   0   0]\n",
      " [  1   8   1   2   3   0 179   0   0]\n",
      " [  0   0   0   0   0   0   1   0   0]\n",
      " [  0   0   0   0   1   0   1   0   5]]\n"
     ]
    }
   ],
   "source": [
    "from xgboost import XGBClassifier\n",
    "\n",
    "xgb = XGBClassifier(seed=25,\n",
    "                    max_depth=15,\n",
    "                    learning_rate=.01,\n",
    "                    n_estimators=1000,\n",
    "                    subsample = .85,\n",
    "                    colsample_bytree = .7,\n",
    "                    reg_alpha = 0,\n",
    "                    reg_lambda = 1)\n",
    "\n",
    "xgb.fit(xgb_train_vecs_dm, y_train)\n",
    "print('Accuracy score: ' + str(xgb.score(xgb_test_vecs_dm, y_test)))\n",
    "xgb_pred = xgb.predict(xgb_test_vecs_dm)\n",
    "\n",
    "print('confusion_matrix:\\n', sklearn.metrics.confusion_matrix(y_test,xgb_pred))\n"
   ]
  },
  {
   "cell_type": "code",
   "execution_count": 144,
   "metadata": {
    "collapsed": true
   },
   "outputs": [],
   "source": [
    "# save XGBoost model\n",
    "\n",
    "pickle.dump(xgb, open('models/xgb_dm_model.sav', 'wb'))"
   ]
  },
  {
   "cell_type": "code",
   "execution_count": 146,
   "metadata": {
    "collapsed": true
   },
   "outputs": [],
   "source": [
    "# read in the saved model\n",
    "xgb_lm_model = pickle.load(open('models/xgb_dm_model.sav', 'rb'))"
   ]
  },
  {
   "cell_type": "code",
   "execution_count": 147,
   "metadata": {
    "collapsed": false
   },
   "outputs": [
    {
     "name": "stdout",
     "output_type": "stream",
     "text": [
      "Accuracy score: 0.666165413534\n",
      "confusion_matrix:\n",
      " [[ 83   2   0  18   4   2   5   0   0]\n",
      " [  5  33   0   0   5   1  52   0   0]\n",
      " [  2   0   6   3   0   0   8   0   0]\n",
      " [ 29   2   0  97   1   1   9   0   0]\n",
      " [ 15   1   0  13  10   2   9   0   0]\n",
      " [  6   0   0   2   1  30   6   0   0]\n",
      " [  1   8   1   2   3   0 179   0   0]\n",
      " [  0   0   0   0   0   0   1   0   0]\n",
      " [  0   0   0   0   1   0   1   0   5]]\n"
     ]
    }
   ],
   "source": [
    "# testing model saved in file\n",
    "\n",
    "print('Accuracy score: ' + str(xgb_lm_model.score(xgb_test_vecs_dm, y_test)))\n",
    "xgb_pred = xgb_lm_model.predict(xgb_test_vecs_dm)\n",
    "\n",
    "print('confusion_matrix:\\n', sklearn.metrics.confusion_matrix(y_test,xgb_pred))"
   ]
  },
  {
   "cell_type": "code",
   "execution_count": null,
   "metadata": {
    "collapsed": true
   },
   "outputs": [],
   "source": [
    "### CODE FOR LOADING A MODEL\n",
    "\n",
    "doc2vec_model = Doc2Vec.load('models/doc2vec.model')"
   ]
  },
  {
   "cell_type": "code",
   "execution_count": 149,
   "metadata": {
    "collapsed": false
   },
   "outputs": [],
   "source": [
    "pickle.dump(train_vecs_dm, open('train_vecs_dm.pkl', 'wb'))"
   ]
  },
  {
   "cell_type": "code",
   "execution_count": 150,
   "metadata": {
    "collapsed": true
   },
   "outputs": [],
   "source": [
    "pickle.dump(test_vecs_dm, open('test_vecs_dm.pkl', 'wb'))"
   ]
  },
  {
   "cell_type": "code",
   "execution_count": 151,
   "metadata": {
    "collapsed": true
   },
   "outputs": [],
   "source": [
    "testtt = pd.read_pickle('train_vecs_dm.pkl')"
   ]
  }
 ],
 "metadata": {
  "anaconda-cloud": {},
  "kernelspec": {
   "display_name": "Python [default]",
   "language": "python",
   "name": "python3"
  },
  "language_info": {
   "codemirror_mode": {
    "name": "ipython",
    "version": 3
   },
   "file_extension": ".py",
   "mimetype": "text/x-python",
   "name": "python",
   "nbconvert_exporter": "python",
   "pygments_lexer": "ipython3",
   "version": "3.5.2"
  }
 },
 "nbformat": 4,
 "nbformat_minor": 2
}
