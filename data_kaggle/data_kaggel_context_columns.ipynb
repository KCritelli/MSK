{
 "cells": [
  {
   "cell_type": "markdown",
   "metadata": {},
   "source": [
    "## Kaggle dataset"
   ]
  },
  {
   "cell_type": "code",
   "execution_count": 137,
   "metadata": {
    "collapsed": true
   },
   "outputs": [],
   "source": [
    "# load package\n",
    "import nltk\n",
    "import os\n",
    "import glob\n",
    "import numpy as np\n",
    "import pandas as pd\n",
    "import matplotlib.pyplot as plt\n",
    "import re\n",
    "%matplotlib inline\n",
    "import warnings\n",
    "warnings.filterwarnings(\"ignore\")\n",
    "pd.set_option('display.max_columns', None)\n",
    "#display(data)"
   ]
  },
  {
   "cell_type": "code",
   "execution_count": 2,
   "metadata": {
    "scrolled": true
   },
   "outputs": [
    {
     "name": "stdout",
     "output_type": "stream",
     "text": [
      "(3321, 4)\n"
     ]
    },
    {
     "data": {
      "text/html": [
       "<div>\n",
       "<style>\n",
       "    .dataframe thead tr:only-child th {\n",
       "        text-align: right;\n",
       "    }\n",
       "\n",
       "    .dataframe thead th {\n",
       "        text-align: left;\n",
       "    }\n",
       "\n",
       "    .dataframe tbody tr th {\n",
       "        vertical-align: top;\n",
       "    }\n",
       "</style>\n",
       "<table border=\"1\" class=\"dataframe\">\n",
       "  <thead>\n",
       "    <tr style=\"text-align: right;\">\n",
       "      <th></th>\n",
       "      <th>ID</th>\n",
       "      <th>Gene</th>\n",
       "      <th>Variation</th>\n",
       "      <th>Class</th>\n",
       "    </tr>\n",
       "  </thead>\n",
       "  <tbody>\n",
       "    <tr>\n",
       "      <th>0</th>\n",
       "      <td>0</td>\n",
       "      <td>FAM58A</td>\n",
       "      <td>Truncating Mutations</td>\n",
       "      <td>1</td>\n",
       "    </tr>\n",
       "    <tr>\n",
       "      <th>1</th>\n",
       "      <td>1</td>\n",
       "      <td>CBL</td>\n",
       "      <td>W802*</td>\n",
       "      <td>2</td>\n",
       "    </tr>\n",
       "    <tr>\n",
       "      <th>2</th>\n",
       "      <td>2</td>\n",
       "      <td>CBL</td>\n",
       "      <td>Q249E</td>\n",
       "      <td>2</td>\n",
       "    </tr>\n",
       "    <tr>\n",
       "      <th>3</th>\n",
       "      <td>3</td>\n",
       "      <td>CBL</td>\n",
       "      <td>N454D</td>\n",
       "      <td>3</td>\n",
       "    </tr>\n",
       "    <tr>\n",
       "      <th>4</th>\n",
       "      <td>4</td>\n",
       "      <td>CBL</td>\n",
       "      <td>L399V</td>\n",
       "      <td>4</td>\n",
       "    </tr>\n",
       "  </tbody>\n",
       "</table>\n",
       "</div>"
      ],
      "text/plain": [
       "   ID    Gene             Variation  Class\n",
       "0   0  FAM58A  Truncating Mutations      1\n",
       "1   1     CBL                 W802*      2\n",
       "2   2     CBL                 Q249E      2\n",
       "3   3     CBL                 N454D      3\n",
       "4   4     CBL                 L399V      4"
      ]
     },
     "execution_count": 2,
     "metadata": {},
     "output_type": "execute_result"
    }
   ],
   "source": [
    "df_train_var = pd.read_csv(\"../data/training_variants.txt\")\n",
    "df_test_var = pd.read_csv(\"../data/test_variants\")\n",
    "print(df_train_var.shape)\n",
    "df_train_var.head()"
   ]
  },
  {
   "cell_type": "code",
   "execution_count": 3,
   "metadata": {},
   "outputs": [
    {
     "data": {
      "text/html": [
       "<div>\n",
       "<style>\n",
       "    .dataframe thead tr:only-child th {\n",
       "        text-align: right;\n",
       "    }\n",
       "\n",
       "    .dataframe thead th {\n",
       "        text-align: left;\n",
       "    }\n",
       "\n",
       "    .dataframe tbody tr th {\n",
       "        vertical-align: top;\n",
       "    }\n",
       "</style>\n",
       "<table border=\"1\" class=\"dataframe\">\n",
       "  <thead>\n",
       "    <tr style=\"text-align: right;\">\n",
       "      <th></th>\n",
       "      <th>ID</th>\n",
       "      <th>Gene</th>\n",
       "      <th>Variation</th>\n",
       "    </tr>\n",
       "  </thead>\n",
       "  <tbody>\n",
       "    <tr>\n",
       "      <th>0</th>\n",
       "      <td>0</td>\n",
       "      <td>ACSL4</td>\n",
       "      <td>R570S</td>\n",
       "    </tr>\n",
       "    <tr>\n",
       "      <th>1</th>\n",
       "      <td>1</td>\n",
       "      <td>NAGLU</td>\n",
       "      <td>P521L</td>\n",
       "    </tr>\n",
       "    <tr>\n",
       "      <th>2</th>\n",
       "      <td>2</td>\n",
       "      <td>PAH</td>\n",
       "      <td>L333F</td>\n",
       "    </tr>\n",
       "    <tr>\n",
       "      <th>3</th>\n",
       "      <td>3</td>\n",
       "      <td>ING1</td>\n",
       "      <td>A148D</td>\n",
       "    </tr>\n",
       "    <tr>\n",
       "      <th>4</th>\n",
       "      <td>4</td>\n",
       "      <td>TMEM216</td>\n",
       "      <td>G77A</td>\n",
       "    </tr>\n",
       "  </tbody>\n",
       "</table>\n",
       "</div>"
      ],
      "text/plain": [
       "   ID     Gene Variation\n",
       "0   0    ACSL4     R570S\n",
       "1   1    NAGLU     P521L\n",
       "2   2      PAH     L333F\n",
       "3   3     ING1     A148D\n",
       "4   4  TMEM216      G77A"
      ]
     },
     "execution_count": 3,
     "metadata": {},
     "output_type": "execute_result"
    }
   ],
   "source": [
    "df_test_var.head()"
   ]
  },
  {
   "cell_type": "markdown",
   "metadata": {},
   "source": [
    "### Check distribution of classes"
   ]
  },
  {
   "cell_type": "code",
   "execution_count": 4,
   "metadata": {
    "collapsed": true
   },
   "outputs": [],
   "source": [
    "# in training set\n",
    "def class_ratio(df):\n",
    "    df_class_ratio = df.groupby('Class').Gene.count()/len(df_train_var)\n",
    "    df_class_ratio.sort_values(ascending=False).plot(kind='bar')\n",
    "        \n",
    "def gene_var_count(df):\n",
    "    return df.groupby(\"Gene\").count()\n",
    "    \n",
    "def gene_class_ratio(df):\n",
    "    class_ratio = df.groupby([\"Gene\",\"Class\"]).\\\n",
    "    Variation.count().unstack().fillna(0).\\\n",
    "    apply(lambda x: round((x/np.sum(x)),2),axis=1)\n",
    "    return class_ratio"
   ]
  },
  {
   "cell_type": "code",
   "execution_count": 5,
   "metadata": {
    "scrolled": true
   },
   "outputs": [
    {
     "data": {
      "image/png": "[encoded data removed]",
      "text/plain": [
       "<matplotlib.figure.Figure at 0x116b740b8>"
      ]
     },
     "metadata": {},
     "output_type": "display_data"
    }
   ],
   "source": [
    "class_ratio(df_train_var)"
   ]
  },
  {
   "cell_type": "code",
   "execution_count": 6,
   "metadata": {},
   "outputs": [
    {
     "data": {
      "text/html": [
       "<div>\n",
       "<style>\n",
       "    .dataframe thead tr:only-child th {\n",
       "        text-align: right;\n",
       "    }\n",
       "\n",
       "    .dataframe thead th {\n",
       "        text-align: left;\n",
       "    }\n",
       "\n",
       "    .dataframe tbody tr th {\n",
       "        vertical-align: top;\n",
       "    }\n",
       "</style>\n",
       "<table border=\"1\" class=\"dataframe\">\n",
       "  <thead>\n",
       "    <tr style=\"text-align: right;\">\n",
       "      <th></th>\n",
       "      <th>ID</th>\n",
       "      <th>Variation</th>\n",
       "      <th>Class</th>\n",
       "    </tr>\n",
       "    <tr>\n",
       "      <th>Gene</th>\n",
       "      <th></th>\n",
       "      <th></th>\n",
       "      <th></th>\n",
       "    </tr>\n",
       "  </thead>\n",
       "  <tbody>\n",
       "    <tr>\n",
       "      <th>ABL1</th>\n",
       "      <td>26</td>\n",
       "      <td>26</td>\n",
       "      <td>26</td>\n",
       "    </tr>\n",
       "    <tr>\n",
       "      <th>ACVR1</th>\n",
       "      <td>3</td>\n",
       "      <td>3</td>\n",
       "      <td>3</td>\n",
       "    </tr>\n",
       "    <tr>\n",
       "      <th>AGO2</th>\n",
       "      <td>5</td>\n",
       "      <td>5</td>\n",
       "      <td>5</td>\n",
       "    </tr>\n",
       "    <tr>\n",
       "      <th>AKT1</th>\n",
       "      <td>28</td>\n",
       "      <td>28</td>\n",
       "      <td>28</td>\n",
       "    </tr>\n",
       "    <tr>\n",
       "      <th>AKT2</th>\n",
       "      <td>11</td>\n",
       "      <td>11</td>\n",
       "      <td>11</td>\n",
       "    </tr>\n",
       "  </tbody>\n",
       "</table>\n",
       "</div>"
      ],
      "text/plain": [
       "       ID  Variation  Class\n",
       "Gene                       \n",
       "ABL1   26         26     26\n",
       "ACVR1   3          3      3\n",
       "AGO2    5          5      5\n",
       "AKT1   28         28     28\n",
       "AKT2   11         11     11"
      ]
     },
     "execution_count": 6,
     "metadata": {},
     "output_type": "execute_result"
    }
   ],
   "source": [
    "gene_var_count(df_train_var).head()"
   ]
  },
  {
   "cell_type": "code",
   "execution_count": 7,
   "metadata": {},
   "outputs": [
    {
     "data": {
      "text/html": [
       "<div>\n",
       "<style>\n",
       "    .dataframe thead tr:only-child th {\n",
       "        text-align: right;\n",
       "    }\n",
       "\n",
       "    .dataframe thead th {\n",
       "        text-align: left;\n",
       "    }\n",
       "\n",
       "    .dataframe tbody tr th {\n",
       "        vertical-align: top;\n",
       "    }\n",
       "</style>\n",
       "<table border=\"1\" class=\"dataframe\">\n",
       "  <thead>\n",
       "    <tr style=\"text-align: right;\">\n",
       "      <th>Class</th>\n",
       "      <th>1</th>\n",
       "      <th>2</th>\n",
       "      <th>3</th>\n",
       "      <th>4</th>\n",
       "      <th>5</th>\n",
       "      <th>6</th>\n",
       "      <th>7</th>\n",
       "      <th>8</th>\n",
       "      <th>9</th>\n",
       "    </tr>\n",
       "    <tr>\n",
       "      <th>Gene</th>\n",
       "      <th></th>\n",
       "      <th></th>\n",
       "      <th></th>\n",
       "      <th></th>\n",
       "      <th></th>\n",
       "      <th></th>\n",
       "      <th></th>\n",
       "      <th></th>\n",
       "      <th></th>\n",
       "    </tr>\n",
       "  </thead>\n",
       "  <tbody>\n",
       "    <tr>\n",
       "      <th>ABL1</th>\n",
       "      <td>0.0</td>\n",
       "      <td>0.92</td>\n",
       "      <td>0.00</td>\n",
       "      <td>0.0</td>\n",
       "      <td>0.00</td>\n",
       "      <td>0.0</td>\n",
       "      <td>0.08</td>\n",
       "      <td>0.00</td>\n",
       "      <td>0.00</td>\n",
       "    </tr>\n",
       "    <tr>\n",
       "      <th>ACVR1</th>\n",
       "      <td>0.0</td>\n",
       "      <td>0.33</td>\n",
       "      <td>0.00</td>\n",
       "      <td>0.0</td>\n",
       "      <td>0.00</td>\n",
       "      <td>0.0</td>\n",
       "      <td>0.67</td>\n",
       "      <td>0.00</td>\n",
       "      <td>0.00</td>\n",
       "    </tr>\n",
       "    <tr>\n",
       "      <th>AGO2</th>\n",
       "      <td>0.8</td>\n",
       "      <td>0.20</td>\n",
       "      <td>0.00</td>\n",
       "      <td>0.0</td>\n",
       "      <td>0.00</td>\n",
       "      <td>0.0</td>\n",
       "      <td>0.00</td>\n",
       "      <td>0.00</td>\n",
       "      <td>0.00</td>\n",
       "    </tr>\n",
       "    <tr>\n",
       "      <th>AKT1</th>\n",
       "      <td>0.0</td>\n",
       "      <td>0.11</td>\n",
       "      <td>0.11</td>\n",
       "      <td>0.0</td>\n",
       "      <td>0.11</td>\n",
       "      <td>0.0</td>\n",
       "      <td>0.61</td>\n",
       "      <td>0.07</td>\n",
       "      <td>0.00</td>\n",
       "    </tr>\n",
       "    <tr>\n",
       "      <th>AKT2</th>\n",
       "      <td>0.0</td>\n",
       "      <td>0.09</td>\n",
       "      <td>0.00</td>\n",
       "      <td>0.0</td>\n",
       "      <td>0.00</td>\n",
       "      <td>0.0</td>\n",
       "      <td>0.73</td>\n",
       "      <td>0.00</td>\n",
       "      <td>0.18</td>\n",
       "    </tr>\n",
       "  </tbody>\n",
       "</table>\n",
       "</div>"
      ],
      "text/plain": [
       "Class    1     2     3    4     5    6     7     8     9\n",
       "Gene                                                    \n",
       "ABL1   0.0  0.92  0.00  0.0  0.00  0.0  0.08  0.00  0.00\n",
       "ACVR1  0.0  0.33  0.00  0.0  0.00  0.0  0.67  0.00  0.00\n",
       "AGO2   0.8  0.20  0.00  0.0  0.00  0.0  0.00  0.00  0.00\n",
       "AKT1   0.0  0.11  0.11  0.0  0.11  0.0  0.61  0.07  0.00\n",
       "AKT2   0.0  0.09  0.00  0.0  0.00  0.0  0.73  0.00  0.18"
      ]
     },
     "execution_count": 7,
     "metadata": {},
     "output_type": "execute_result"
    }
   ],
   "source": [
    "gene_class_ratio(df_train_var).head()"
   ]
  },
  {
   "cell_type": "markdown",
   "metadata": {},
   "source": [
    "## Load data and join table"
   ]
  },
  {
   "cell_type": "code",
   "execution_count": 8,
   "metadata": {
    "scrolled": false
   },
   "outputs": [
    {
     "name": "stderr",
     "output_type": "stream",
     "text": [
      "/Users/wanggene/miniconda3/lib/python3.6/site-packages/ipykernel_launcher.py:1: ParserWarning: Falling back to the 'python' engine because the 'c' engine does not support regex separators (separators > 1 char and different from '\\s+' are interpreted as regex); you can avoid this warning by specifying engine='python'.\n",
      "  \"\"\"Entry point for launching an IPython kernel.\n",
      "/Users/wanggene/miniconda3/lib/python3.6/site-packages/ipykernel_launcher.py:2: ParserWarning: Falling back to the 'python' engine because the 'c' engine does not support regex separators (separators > 1 char and different from '\\s+' are interpreted as regex); you can avoid this warning by specifying engine='python'.\n",
      "  \n"
     ]
    },
    {
     "name": "stdout",
     "output_type": "stream",
     "text": [
      "train (3321, 2)\n",
      "test (5668, 2)\n"
     ]
    }
   ],
   "source": [
    "df_train_txt = pd.read_csv('/Users/wanggene/Downloads/MoreData/kaggle_P04/training_text.txt', sep='\\|\\|', header=None, skiprows=1,names=[\"ID\",\"Text\"])\n",
    "df_test_txt = pd.read_csv('/Users/wanggene/Downloads/MoreData/kaggle_P04/test_text.txt', sep='\\|\\|', header=None, skiprows=1,names=[\"ID\",\"Text\"])\n",
    "\n",
    "print(\"train\", df_train_txt.shape)\n",
    "print(\"test\", df_test_txt.shape)"
   ]
  },
  {
   "cell_type": "code",
   "execution_count": 9,
   "metadata": {
    "scrolled": false
   },
   "outputs": [
    {
     "name": "stdout",
     "output_type": "stream",
     "text": [
      "(3321, 5)\n",
      "(5668, 4)\n"
     ]
    },
    {
     "data": {
      "text/html": [
       "<div>\n",
       "<style>\n",
       "    .dataframe thead tr:only-child th {\n",
       "        text-align: right;\n",
       "    }\n",
       "\n",
       "    .dataframe thead th {\n",
       "        text-align: left;\n",
       "    }\n",
       "\n",
       "    .dataframe tbody tr th {\n",
       "        vertical-align: top;\n",
       "    }\n",
       "</style>\n",
       "<table border=\"1\" class=\"dataframe\">\n",
       "  <thead>\n",
       "    <tr style=\"text-align: right;\">\n",
       "      <th></th>\n",
       "      <th>ID</th>\n",
       "      <th>Gene</th>\n",
       "      <th>Variation</th>\n",
       "      <th>Class</th>\n",
       "      <th>Text</th>\n",
       "    </tr>\n",
       "  </thead>\n",
       "  <tbody>\n",
       "    <tr>\n",
       "      <th>0</th>\n",
       "      <td>0</td>\n",
       "      <td>FAM58A</td>\n",
       "      <td>Truncating Mutations</td>\n",
       "      <td>1</td>\n",
       "      <td>Cyclin-dependent kinases (CDKs) regulate a var...</td>\n",
       "    </tr>\n",
       "    <tr>\n",
       "      <th>1</th>\n",
       "      <td>1</td>\n",
       "      <td>CBL</td>\n",
       "      <td>W802*</td>\n",
       "      <td>2</td>\n",
       "      <td>Abstract Background  Non-small cell lung canc...</td>\n",
       "    </tr>\n",
       "    <tr>\n",
       "      <th>2</th>\n",
       "      <td>2</td>\n",
       "      <td>CBL</td>\n",
       "      <td>Q249E</td>\n",
       "      <td>2</td>\n",
       "      <td>Abstract Background  Non-small cell lung canc...</td>\n",
       "    </tr>\n",
       "    <tr>\n",
       "      <th>3</th>\n",
       "      <td>3</td>\n",
       "      <td>CBL</td>\n",
       "      <td>N454D</td>\n",
       "      <td>3</td>\n",
       "      <td>Recent evidence has demonstrated that acquired...</td>\n",
       "    </tr>\n",
       "    <tr>\n",
       "      <th>4</th>\n",
       "      <td>4</td>\n",
       "      <td>CBL</td>\n",
       "      <td>L399V</td>\n",
       "      <td>4</td>\n",
       "      <td>Oncogenic mutations in the monomeric Casitas B...</td>\n",
       "    </tr>\n",
       "  </tbody>\n",
       "</table>\n",
       "</div>"
      ],
      "text/plain": [
       "   ID    Gene             Variation  Class  \\\n",
       "0   0  FAM58A  Truncating Mutations      1   \n",
       "1   1     CBL                 W802*      2   \n",
       "2   2     CBL                 Q249E      2   \n",
       "3   3     CBL                 N454D      3   \n",
       "4   4     CBL                 L399V      4   \n",
       "\n",
       "                                                Text  \n",
       "0  Cyclin-dependent kinases (CDKs) regulate a var...  \n",
       "1   Abstract Background  Non-small cell lung canc...  \n",
       "2   Abstract Background  Non-small cell lung canc...  \n",
       "3  Recent evidence has demonstrated that acquired...  \n",
       "4  Oncogenic mutations in the monomeric Casitas B...  "
      ]
     },
     "execution_count": 9,
     "metadata": {},
     "output_type": "execute_result"
    }
   ],
   "source": [
    "# train dataset\n",
    "df_train = pd.merge(df_train_var, df_train_txt, how='left', on='ID')\n",
    "# test dataset\n",
    "df_test = pd.merge(df_test_var, df_test_txt, how='left', on='ID')\n",
    "#df_test.head()\n",
    "print(df_train.shape)\n",
    "print(df_test.shape)\n",
    "df_train.head()"
   ]
  },
  {
   "cell_type": "markdown",
   "metadata": {},
   "source": [
    "### Original table"
   ]
  },
  {
   "cell_type": "code",
   "execution_count": 2,
   "metadata": {
    "collapsed": true,
    "scrolled": false
   },
   "outputs": [],
   "source": [
    "df_train.head()\n",
    "df_train2 = df_train.copy()"
   ]
  },
  {
   "cell_type": "markdown",
   "metadata": {},
   "source": [
    "### Adding new features"
   ]
  },
  {
   "cell_type": "code",
   "execution_count": 148,
   "metadata": {
    "collapsed": true,
    "scrolled": false
   },
   "outputs": [],
   "source": [
    "# counts\n",
    "def gene_count(df):\n",
    "    x, y = df.Gene, df.Text\n",
    "    return len(re.findall(x,y))\n",
    "\n",
    "def var_count(df):\n",
    "    x, y = df.Variation, df.Text\n",
    "    return len(re.findall(x,y)) \n",
    "\n",
    "def gene_count_mu(df):\n",
    "    x, y = df.Gene, df.Text\n",
    "    x = x + \" mutation\"\n",
    "    return len(re.findall(x, y))\n",
    "\n",
    "# new text bag\n",
    "def gene_context(df): # extract context starts with Gene\n",
    "    #re_word = \".{5}\" + \"(?i)\" + word + \" .{100}\"   # extract by length\n",
    "    re_word = \".{5}\" + \"(?i)\" + df.Gene + \".*?[\\.;!?] \" # extract by the \n",
    "    context = re.findall(re_word, df.Text,  re.MULTILINE | re.DOTALL )\n",
    "    return '|'.join(context)\n",
    "\n",
    "def var_context(df): # extract context starts with Variations\n",
    "    re_word = \".{5}\" + \"(?i)\" + df.Variation + \".*?[\\.;!?] \" # extract by the \n",
    "    context = re.findall(re_word, df.Text,  re.MULTILINE | re.DOTALL )\n",
    "    return '|'.join(context)\n",
    "\n",
    "def word_context(word, df): # input any word interested to extract context\n",
    "    re_word = \".{50}\" + \"(?i)\" + word + \".*?[\\.;!?] \" # extract by the \n",
    "    context = re.findall(re_word, df.Text,  re.MULTILINE | re.DOTALL )\n",
    "    return '|'.join(context)"
   ]
  },
  {
   "cell_type": "code",
   "execution_count": 265,
   "metadata": {
    "scrolled": false
   },
   "outputs": [
    {
     "name": "stdout",
     "output_type": "stream",
     "text": [
      "ID                                                           4\n",
      "Gene                                                       CBL\n",
      "Variation                                                L399V\n",
      "Class                                                        4\n",
      "Text         Oncogenic mutations in the monomeric Casitas B...\n",
      "Name: 4, dtype: object\n"
     ]
    },
    {
     "data": {
      "text/plain": [
       "'neage lymphoma (Cbl) gene have been found in many tumors, but their significance remains largely unknown. | mutations which can potentially be implicated in tumorigenensis (1). |tations can provide selective growth advantage to tumor cells (driver mutations), the large majority of them are considered to be neutral (passenger mutations). |) were found in human myeloid neoplasms and other tumors (5) but the significance of these mutations and their impacts on CBL function were studied only for very few mutants (7). |h might not be energetically optimal (36, 42). In tumorigenesis, protein stability or binding may be reduced (or in some cases increased) due to cancer mutations. | confer a fitness advantage for the population of tumor cells (43, 44). | the stability-activity tradeoff in oncogenes and tumor suppressors remains largely unknown. | passenger mutations may also alter the course of tumorigenesis (45). |CBL-E2 binding can give a selective advantage for tumor cells. | activity of C'"
      ]
     },
     "execution_count": 265,
     "metadata": {},
     "output_type": "execute_result"
    }
   ],
   "source": [
    "# Test\n",
    "n = 4\n",
    "word = \"tumor\"\n",
    "df_text1 = df_train.loc[n]\n",
    "print(df_text1)\n",
    "word_context(word, df_text1)[:1000]"
   ]
  },
  {
   "cell_type": "code",
   "execution_count": 133,
   "metadata": {
    "collapsed": true
   },
   "outputs": [],
   "source": []
  },
  {
   "cell_type": "markdown",
   "metadata": {
    "collapsed": true
   },
   "source": [
    "###  add new columns"
   ]
  },
  {
   "cell_type": "code",
   "execution_count": 154,
   "metadata": {
    "scrolled": false
   },
   "outputs": [
    {
     "data": {
      "text/html": [
       "<div>\n",
       "<style>\n",
       "    .dataframe thead tr:only-child th {\n",
       "        text-align: right;\n",
       "    }\n",
       "\n",
       "    .dataframe thead th {\n",
       "        text-align: left;\n",
       "    }\n",
       "\n",
       "    .dataframe tbody tr th {\n",
       "        vertical-align: top;\n",
       "    }\n",
       "</style>\n",
       "<table border=\"1\" class=\"dataframe\">\n",
       "  <thead>\n",
       "    <tr style=\"text-align: right;\">\n",
       "      <th></th>\n",
       "      <th>ID</th>\n",
       "      <th>Gene</th>\n",
       "      <th>Variation</th>\n",
       "      <th>Class</th>\n",
       "      <th>Text</th>\n",
       "      <th>Gene_count</th>\n",
       "      <th>Var_count</th>\n",
       "      <th>Gene_mu_count</th>\n",
       "      <th>Gene_context</th>\n",
       "      <th>Var_context</th>\n",
       "      <th>Cancer_context</th>\n",
       "    </tr>\n",
       "  </thead>\n",
       "  <tbody>\n",
       "    <tr>\n",
       "      <th>0</th>\n",
       "      <td>0</td>\n",
       "      <td>FAM58A</td>\n",
       "      <td>Truncating Mutations</td>\n",
       "      <td>1</td>\n",
       "      <td>Cyclin-dependent kinases (CDKs) regulate a var...</td>\n",
       "      <td>34</td>\n",
       "      <td>0</td>\n",
       "      <td>4</td>\n",
       "      <td>t of FAM58A, whose mutations cause STAR syndro...</td>\n",
       "      <td></td>\n",
       "      <td>way, which confers tamoxifen resistance to bre...</td>\n",
       "    </tr>\n",
       "    <tr>\n",
       "      <th>1</th>\n",
       "      <td>1</td>\n",
       "      <td>CBL</td>\n",
       "      <td>W802*</td>\n",
       "      <td>2</td>\n",
       "      <td>Abstract Background  Non-small cell lung canc...</td>\n",
       "      <td>163</td>\n",
       "      <td>13</td>\n",
       "      <td>25</td>\n",
       "      <td>s. c-CBL is an E3 ubiquitin ligase and adaptor...</td>\n",
       "      <td>and W802* (obtained from Caucasian, Taiwanese...</td>\n",
       "      <td>ptor molecule important in normal homeostasis ...</td>\n",
       "    </tr>\n",
       "    <tr>\n",
       "      <th>2</th>\n",
       "      <td>2</td>\n",
       "      <td>CBL</td>\n",
       "      <td>Q249E</td>\n",
       "      <td>2</td>\n",
       "      <td>Abstract Background  Non-small cell lung canc...</td>\n",
       "      <td>163</td>\n",
       "      <td>13</td>\n",
       "      <td>25</td>\n",
       "      <td>s. c-CBL is an E3 ubiquitin ligase and adaptor...</td>\n",
       "      <td>94Y, Q249E and W802* (obtained from Caucasian,...</td>\n",
       "      <td>ptor molecule important in normal homeostasis ...</td>\n",
       "    </tr>\n",
       "    <tr>\n",
       "      <th>3</th>\n",
       "      <td>3</td>\n",
       "      <td>CBL</td>\n",
       "      <td>N454D</td>\n",
       "      <td>3</td>\n",
       "      <td>Recent evidence has demonstrated that acquired...</td>\n",
       "      <td>117</td>\n",
       "      <td>5</td>\n",
       "      <td>42</td>\n",
       "      <td>ses. CBL mutations were identified in all 3 ca...</td>\n",
       "      <td>from N454D, all residues affected by missense ...</td>\n",
       "      <td>ovel mechanism by which pathogenetic mutations...</td>\n",
       "    </tr>\n",
       "    <tr>\n",
       "      <th>4</th>\n",
       "      <td>4</td>\n",
       "      <td>CBL</td>\n",
       "      <td>L399V</td>\n",
       "      <td>4</td>\n",
       "      <td>Oncogenic mutations in the monomeric Casitas B...</td>\n",
       "      <td>197</td>\n",
       "      <td>2</td>\n",
       "      <td>3</td>\n",
       "      <td>oma (Cbl) gene have been found in many tumors,...</td>\n",
       "      <td>ons (L399V, G375P, P395A and V391I) which atte...</td>\n",
       "      <td>ht underlying how stability-activity tradeoffs...</td>\n",
       "    </tr>\n",
       "  </tbody>\n",
       "</table>\n",
       "</div>"
      ],
      "text/plain": [
       "   ID    Gene             Variation  Class  \\\n",
       "0   0  FAM58A  Truncating Mutations      1   \n",
       "1   1     CBL                 W802*      2   \n",
       "2   2     CBL                 Q249E      2   \n",
       "3   3     CBL                 N454D      3   \n",
       "4   4     CBL                 L399V      4   \n",
       "\n",
       "                                                Text  Gene_count  Var_count  \\\n",
       "0  Cyclin-dependent kinases (CDKs) regulate a var...          34          0   \n",
       "1   Abstract Background  Non-small cell lung canc...         163         13   \n",
       "2   Abstract Background  Non-small cell lung canc...         163         13   \n",
       "3  Recent evidence has demonstrated that acquired...         117          5   \n",
       "4  Oncogenic mutations in the monomeric Casitas B...         197          2   \n",
       "\n",
       "   Gene_mu_count                                       Gene_context  \\\n",
       "0              4  t of FAM58A, whose mutations cause STAR syndro...   \n",
       "1             25  s. c-CBL is an E3 ubiquitin ligase and adaptor...   \n",
       "2             25  s. c-CBL is an E3 ubiquitin ligase and adaptor...   \n",
       "3             42  ses. CBL mutations were identified in all 3 ca...   \n",
       "4              3  oma (Cbl) gene have been found in many tumors,...   \n",
       "\n",
       "                                         Var_context  \\\n",
       "0                                                      \n",
       "1   and W802* (obtained from Caucasian, Taiwanese...   \n",
       "2  94Y, Q249E and W802* (obtained from Caucasian,...   \n",
       "3  from N454D, all residues affected by missense ...   \n",
       "4  ons (L399V, G375P, P395A and V391I) which atte...   \n",
       "\n",
       "                                      Cancer_context  \n",
       "0  way, which confers tamoxifen resistance to bre...  \n",
       "1  ptor molecule important in normal homeostasis ...  \n",
       "2  ptor molecule important in normal homeostasis ...  \n",
       "3  ovel mechanism by which pathogenetic mutations...  \n",
       "4  ht underlying how stability-activity tradeoffs...  "
      ]
     },
     "execution_count": 154,
     "metadata": {},
     "output_type": "execute_result"
    }
   ],
   "source": [
    "\n",
    "df_train2['Gene_count'] = df_train.apply(gene_count, axis=1)\n",
    "df_train2['Var_count'] = df_train.apply(var_count, axis=1)\n",
    "df_train2['Gene_mu_count'] = df_train.apply(gene_count_mu, axis=1)\n",
    "df_train2['Gene_context'] = df_train.apply(gene_context, axis=1)\n",
    "df_train2['Var_context'] = df_train.apply(var_context, axis=1)\n",
    "df_train2['Cancer_context'] = df_train.apply(lambda x: word_context(\"cancer\", df=x), axis=1)\n",
    "df_train2['Mutate_context'] = df_train.apply(lambda x: word_context(\"mutat\", df=x), axis=1)\n",
    "df_train2.head(2)"
   ]
  },
  {
   "cell_type": "code",
   "execution_count": null,
   "metadata": {
    "collapsed": true,
    "scrolled": true
   },
   "outputs": [],
   "source": []
  },
  {
   "cell_type": "markdown",
   "metadata": {},
   "source": [
    "### Plot for the new columns"
   ]
  },
  {
   "cell_type": "code",
   "execution_count": 25,
   "metadata": {
    "scrolled": false
   },
   "outputs": [
    {
     "data": {
      "image/png": "[encoded data removed]",
      "text/plain": [
       "<matplotlib.figure.Figure at 0x13b20da58>"
      ]
     },
     "metadata": {},
     "output_type": "display_data"
    },
    {
     "data": {
      "image/png": "[encoded data removed]",
      "text/plain": [
       "<matplotlib.figure.Figure at 0x13b36a208>"
      ]
     },
     "metadata": {},
     "output_type": "display_data"
    },
    {
     "data": {
      "image/png": "[encoded data removed]",
      "text/plain": [
       "<matplotlib.figure.Figure at 0x13b4e9828>"
      ]
     },
     "metadata": {},
     "output_type": "display_data"
    }
   ],
   "source": [
    "features = ['Gene_count', 'Var_count', 'Gene_mu_count']\n",
    "\n",
    "for feature in features:\n",
    "    plt.title(feature)\n",
    "    feature = df_train2[feature]\n",
    "    plt.scatter(df_train2.Class, feature, alpha=0.3)\n",
    "    plt.xlabel('classes')\n",
    "    plt.show()"
   ]
  },
  {
   "cell_type": "code",
   "execution_count": 16,
   "metadata": {
    "scrolled": true
   },
   "outputs": [
    {
     "name": "stderr",
     "output_type": "stream",
     "text": [
      "/Users/wanggene/miniconda3/lib/python3.6/site-packages/ipykernel_launcher.py:1: RuntimeWarning: divide by zero encountered in log\n",
      "  \"\"\"Entry point for launching an IPython kernel.\n"
     ]
    },
    {
     "data": {
      "text/plain": [
       "<matplotlib.collections.PathCollection at 0x1376bc358>"
      ]
     },
     "execution_count": 16,
     "metadata": {},
     "output_type": "execute_result"
    },
    {
     "data": {
      "image/png": "[encoded data removed]",
      "text/plain": [
       "<matplotlib.figure.Figure at 0x116b70978>"
      ]
     },
     "metadata": {},
     "output_type": "display_data"
    }
   ],
   "source": [
    "plt.scatter(np.log(df_train2.Gene_count), np.log(df_train2.Var_count), c = df_train.Class*3, alpha=0.3)"
   ]
  },
  {
   "cell_type": "markdown",
   "metadata": {
    "collapsed": true
   },
   "source": [
    "### Test dataset"
   ]
  },
  {
   "cell_type": "code",
   "execution_count": 4,
   "metadata": {
    "collapsed": true
   },
   "outputs": [],
   "source": [
    "#df_test2 = df_test.copy()\n",
    "#df_test2['Gene_count'] = df_test.apply(gene_count, axis=1)\n",
    "#df_test2['Var_count'] = df_test.apply(var_count, axis=1)\n",
    "#df_test2['Gene_mu_count'] = df_test.apply(gene_count_mu, axis=1)\n",
    "#df_test2['Gene_context'] = df_test.apply(gene_context, axis=1)\n",
    "#df_test2['Var_context'] = df_test.apply(var_context, axis=1)\n",
    "#df_test2['Cancer_context'] = df_test.apply(lambda x: word_context(\"cancer\", df=x), axis=1)\n",
    "#df_test2['Mutate_context'] = df_test.apply(lambda x: word_context(\"mutat\", df=x), axis=1)\n",
    "#df_test2.head(2)"
   ]
  },
  {
   "cell_type": "markdown",
   "metadata": {
    "collapsed": true
   },
   "source": [
    "### Merge new context columns together"
   ]
  },
  {
   "cell_type": "code",
   "execution_count": 240,
   "metadata": {
    "scrolled": true
   },
   "outputs": [
    {
     "name": "stdout",
     "output_type": "stream",
     "text": [
      "Index(['ID', 'Gene', 'Variation', 'Class', 'Text', 'Gene_count', 'Var_count',\n",
      "       'Gene_mu_count', 'Gene_context', 'Var_context', 'Cancer_context',\n",
      "       'Mutate_context'],\n",
      "      dtype='object')\n"
     ]
    },
    {
     "data": {
      "text/html": [
       "<div>\n",
       "<style>\n",
       "    .dataframe thead tr:only-child th {\n",
       "        text-align: right;\n",
       "    }\n",
       "\n",
       "    .dataframe thead th {\n",
       "        text-align: left;\n",
       "    }\n",
       "\n",
       "    .dataframe tbody tr th {\n",
       "        vertical-align: top;\n",
       "    }\n",
       "</style>\n",
       "<table border=\"1\" class=\"dataframe\">\n",
       "  <thead>\n",
       "    <tr style=\"text-align: right;\">\n",
       "      <th></th>\n",
       "      <th>ID</th>\n",
       "      <th>Gene</th>\n",
       "      <th>Variation</th>\n",
       "      <th>Class</th>\n",
       "      <th>new_context</th>\n",
       "    </tr>\n",
       "  </thead>\n",
       "  <tbody>\n",
       "    <tr>\n",
       "      <th>0</th>\n",
       "      <td>0</td>\n",
       "      <td>FAM58A</td>\n",
       "      <td>Truncating Mutations</td>\n",
       "      <td>1</td>\n",
       "      <td>way, which confers tamoxifen resistance to bre...</td>\n",
       "    </tr>\n",
       "    <tr>\n",
       "      <th>1</th>\n",
       "      <td>1</td>\n",
       "      <td>CBL</td>\n",
       "      <td>W802*</td>\n",
       "      <td>2</td>\n",
       "      <td>ptor molecule important in normal homeostasis ...</td>\n",
       "    </tr>\n",
       "  </tbody>\n",
       "</table>\n",
       "</div>"
      ],
      "text/plain": [
       "   ID    Gene             Variation  Class  \\\n",
       "0   0  FAM58A  Truncating Mutations      1   \n",
       "1   1     CBL                 W802*      2   \n",
       "\n",
       "                                         new_context  \n",
       "0  way, which confers tamoxifen resistance to bre...  \n",
       "1  ptor molecule important in normal homeostasis ...  "
      ]
     },
     "execution_count": 240,
     "metadata": {},
     "output_type": "execute_result"
    }
   ],
   "source": [
    "print(df_train2.columns)\n",
    "context_cols = df_train2.columns[10:] # start from 8: gene_context\n",
    "df_train3 = df_train2[['ID', 'Gene', 'Variation', 'Class']]\n",
    "df_train3['new_context'] = df_train2[context_cols].apply(lambda x: ''.join(x), axis=1)\n",
    "df_train3.head(2)\n"
   ]
  },
  {
   "cell_type": "code",
   "execution_count": 241,
   "metadata": {
    "scrolled": false
   },
   "outputs": [
    {
     "data": {
      "text/plain": [
       "\"ptor molecule important in normal homeostasis and cancer. |c-CBL mutations occur in somatic fashion for lung cancers. | it is clear that c-CBL is highly mutated in lung cancers and may play an essential role in lung tumorigenesis and metastasis. |roximately 219,400 people are diagnosed with lung cancers, out of which more than 145,000 of them succumb to the disease [1]. |hly equivalent to the combined mortality rates of cancers of the breast, prostate, colon, liver, kidney and melanoma [1]. | are also significant ethnic differences for lung cancer, and the outcome is worse for blacks compared to whites. |ber of genetic alterations that can occur in lung cancer. |he critical role of CBL in normal homeostasis and cancer, we hypothesized that it might be mutated in lung cancers. |in Caucasian, Taiwanese and African-American lung cancer patients, respectively. |o the oncogenic potential of MET and EGFR in lung cancer. |s were used for this study.  Tissue Samples  Lung cancer tissue and paired adjacent normal lung tissues were obtained from 50 Caucasian, 29 African-Americans and 40 Taiwanese NSCLC patients who were recruited at the University of Chicago Hospital (Chicago, USA) (Caucasian and African-American patients) and Taipei Veterans General Hospital of Taiwan (Taiwanese patients) after obtaining appropriate Institutional Review Board permission and informed consent from the patients. |TX).  Go to: Results c-CBL Gene Mutations in Lung Cancer  To investigate the role of c-CBL in lung cancer, we analyzed its genomic DNA in tumor and paired normal samples drawn from multiple ethnicities. |n-Americans (n\\u200a=\\u200a29), and Taiwanese (n\\u200a=\\u200a40) lung cancer patients. |ble 1 Table 1 c-CBL mutation analysis in 119 lung cancer patient tumor tissues. | 1 c-CBL mutations and LOH in non-small cell lung cancer. |on. Additionally two Taiwanese patients with lung cancer (one squamous and one adenocarcinoma) had the known SNP L620F. |th c-CBL Alterations  Since East Asians with lung cancer have a higher frequency of EGFR and MET mutations in lung tumors [21], [22], we also determined mutations in EGFR and MET in the same Taiwanese cohort samples and compared the results with the observed c-CBL alterations (LOH and/or mutations). | patient cohort. Conversely, 89.2% Taiwanese lung cancer patients have an identifiable mutation in either c-CBL, MET or EGFR or a combination of the three genes (Figure 2). |nd relationship to MET and EGFR mutations in lung cancer. |lysis of various c-CBL mutants. B. Effect on lung cancer cell viability The effect of a representative c-CBL mutant from each of the three ethnic backgrounds on lung cancer cell viability in cell lines was determined. |s we tested the effect of c-CBL knockdown in lung cancer cells. |c-CBL is somatically mutated (or has LOH) in lung cancers, and can significantly contribute to enhanced cell viability and motility. |strated the occurrence of c-CBL mutations in lung cancer patients, especially with different ancestral variations. |ts point out not only the difference between lung cancer and other cancers, but also genetic polymorphism among different races in the same cancer. |n-American and other ethnic populations with lung cancer [30]. |ybridization/copy number changes in c-CBL in lung cancer. |as SYK, FYN, LCK, FGR, LYN and c-ABL [3]. In lung cancers the relevant substrates of c-CBL in terms of degradation or signal transduction are yet to be identified. |es cellular proliferation and migration in breast cancer cell lines [34]. |that it is a natural tumor suppressor, studies in cancer cells have revealed both tumor suppressor and tumor promoting activities depending on the type of c-CBL mutation and the number of alleles at the c-CBL locus [24]. |ating. The oncogenic nature of RTKs, addiction of cancers to growth signals and given the clustering of c-CBL, EGFR and MET mutations, it is possible that the transforming effect of c-CBL mutations is most likely a combinatorial effect of the three. |OH, makes c-CBL a highly mutated molecule in lung cancer. | and others have shown that East Asians with lung cancers have relatively high frequencies of gain-of-function of mutations in RTKs such as EGFR and MET [31]. |we have recently shown that MET mutations in lung cancer are in majority germline [31]. |CBL mutations in a small cohort of Taiwanese lung cancer samples [40]. |s PAX5 and PAX8 that are highly expressed in lung cancers; |atively high frequency of c-CBL mutations in lung cancers, especially in the large cell type among Caucasians and particularly among African-Americans. |e propose c-CBL as an efficacious target for lung cancers in African-Americans that needs to be further substantiated. |use the prognosis for African-Americans with lung cancer, especially for men is much poorer compared to their Caucasian counterparts [41]. | c-CBL is frequently mutated or even lost in lung cancers.  (FFPE) extracted genomic DNA, we show that c-CBL mutations occur in somatic fashion for lung cancers. |ations were not mutually exclusive of MET or EGFR mutations; | n\\u200a=\\u200a8/37) and none of these samples revealed any mutation in the remaining copy of c-CBL. | LOH also positively correlated with EGFR and MET mutations observed in the same samples. |d cell motility.  Conclusions  Taking the overall mutation rate of c-CBL to be a combination as somatic missense mutation and LOH, it is clear that c-CBL is highly mutated in lung cancers and may play an essential role in lung tumorigenesis and metastasis. |an occur in lung cancer. As an example, in NSCLC, mutations in KRAS, p53, EGFR and MET have been identified. | characterized by a deletion mutant and the point mutation L858R, whereby its association with c-CBL and subsequent ubiquitination are impaired [19]. |n acute myeloid leukemia (AML) patients [20]. The mutation R420Q inhibits FMS-like tyrosine kinase 3 (FLT3) internalization and ubiquitination [20]. |asis and cancer, we hypothesized that it might be mutated in lung cancers. |g cancer patients, respectively. Expressing these mutations in NSCLC cell lines lead to increased proliferation and cell motility. |c-CBL mutations occur with or without MET or EGFR mutations but are mutually exclusive of a LOH at the c-CBL locus. |, c-CBL LOH is associated with either MET or EGFR mutations. |midified incubator containing 5% CO2.  c-CBL Gene Mutational Analysis  Exons 2 to 16 of c-CBL gene were individually amplified by polymerase chain reaction (PCR). |e strand as well. Chromatograms were analyzed for mutations using Mutation Surveyor v2.61 (Softgenetics, State College, PA). |al plasmid pAlterMax-c-CBL, the TKB domain double mutation (S80N/H94Y), the point mutation (Q249E), and the C-terminal point mutation W802* of c-CBL were created using the following primers: 5′-GCTGGCGCTAAAGAATAACCCACCTTATATCTTAGAC-3′ and 5′-CTACCAGATACCTACCAGTATCTCCGTACTATCTTGTC-3′ for the double mutation S80N/H94Y; |ions. The constructs were confirmed for the point mutations by standard DNA sequencing of both strands. | constructs using anti-HA.  Statistical Analysis  Mutation rates between different groups were compared using Fisher's exact test. | College Station, TX).  Go to: Results c-CBL Gene Mutations in Lung Cancer  To investigate the role of c-CBL in lung cancer, we analyzed its genomic DNA in tumor and paired normal samples drawn from multiple ethnicities. | to 16 (Table S2). We identified 8 unique somatic mutations in c-CBL exons among 8 different patients. |cted. Importantly, the eight novel non-synonymous mutations were confirmed by sequencing both strands of c-CBL genomic DNA obtained from lung tumor samples (Table 1). |normal tissue, indicating that these were somatic mutations. |sed further in this study.  Table 1 Table 1 c-CBL mutation analysis in 119 lung cancer patient tumor tissues. | representative samples.  Figure 1 Figure 1 c-CBL mutations and LOH in non-small cell lung cancer. |microsatellite markers (Figures 1C and D).  c-CBL Mutations in Different Ethnic Groups  The c-CBL double mutant S80N/H94Y was found in the same patient and the overall mutation rate for c-CBL in lung tumors was 6.7% (8/119). |s were not statistically significant (p\\u200a=\\u200a0.292). Mutation rates were 6.0% among Caucasians (0 of 20 in AD; |however the power to detect differences was low.  Mutations in MET and EGFR Can Be Co-Associated with c-CBL Alterations  Since East Asians with lung cancer have a higher frequency of EGFR and MET mutations in lung tumors [21], [22], we also determined mutations in EGFR and MET in the same Taiwanese cohort samples and compared the results with the observed c-CBL alterations (LOH and/or mutations). |tested, we did not find any overlap between c-CBL mutations and c-CBL LOH (Figure 2). |20F SNP, rs2227988), one of the samples had a MET mutation (N375S) and the other had an EGFR mutation (L858R). | had a LOH at the c-CBL locus 5 had an additional mutation in MET (N375S) and 2 had an EGFR exon 19 deletion. |BL mutation nor c-CBL LOH (3 patients had a c-CBL mutation but no c-CBL LOH). |a MET mutation (8 N375S, 1 L211W), 13 had an EGFR mutation (7 exon 9 deletion, 6 L858R) and 4 had no other MET or EGFR mutation. |as similar to that seen in patients without c-CBL mutation or LOH (22 of 26 patients) (p\\u200a=\\u200a0.99). |iwanese lung cancer patients have an identifiable mutation in either c-CBL, MET or EGFR or a combination of the three genes (Figure 2). |ns in these Taiwanese cohorts. Two p53 and 1 KRAS mutation were detected. |so had the EGFR exon 19 deletion but had no c-CBL mutation. | sample had a c-CBL LOH with concurrent MET N375S mutation. |Thus, in the Taiwanese samples analyzed, p53/KRAS mutations and c-CBL mutations were mutually exclusive (data not shown). | c-CBL mutations and relationship to MET and EGFR mutations in lung cancer. |oteins To investigate whether the different c-CBL mutations affect the E3 activity, EGFR was chosen as a model substrate for c-CBL E3 function. |ty in cell lines was determined. S80N/H94Y double mutation, Q249E, and W802* were identified in lung tumor samples obtained from a Caucasian, a Taiwanese and an African-American, respectively. |y (p<0.001) (Figure 4B).  Figure 4 Figure 4 c-CBL mutations affect wound healing in A549 cells. |Our results demonstrate that c-CBL is somatically mutated (or has LOH) in lung cancers, and can significantly contribute to enhanced cell viability and motility. |to c-CBL in lung tumors that harbored MET or EGFR mutation. |udy, we have demonstrated the occurrence of c-CBL mutations in lung cancer patients, especially with different ancestral variations. |a and myeloid malignancies. In the AML study, the mutation R420Q located in the junction of the RING finger and the linker region inhibited FMS-like tyrosine kinase 3 (FLT3) internalization and ubiquitination [20], thus contributing to the gain-in-function for the RTK. | [24], [25], [26], [27]. Additionally, homozygous mutations in the RING finger domain of the c-CBL gene were described as a result of acquired Uniparental Disomy (UPD) [26]. |us and these are mutually exclusive from missense mutations of c-CBL. |dition, it was shown in NH3T3 cells, that neither mutations in the RING finger nor the linker region causes transformation, however while certain mutations perturbs the ubiquitination, others affect receptor recycling and prolong kinase activity [28]. |wn that there was a low frequency of EGFR and MET mutation in African-Americans as compared with Taiwanese and Caucasians [31]. |ples analyzed was relatively fewer and we found 3 mutations that are unique to this ethnicity. | data, would be that the V391I RING finger domain mutation would affect the E3 activity. |r c-CBL in the TKB domain and proline rich domain mutations. |tions (reviewed in Hermann et al, 2007 [32]). The mutations that we analyzed in our studies all point out to the fact that the E3 activity of c-CBL on EGFR is intact; |e identified.  The observation that c-CBL somatic mutations, especially S80N/H94Y, Q249E and W802* showed increased cell viability and cell motility that is in agreement with the physiological role for D-cbl in the regulation of apoptosis and differentiation identified in Drosophila is very significant [33]. |t has been previously shown that activating c-CBL mutation downregulates EGFR signaling and decreases cellular proliferation and migration in breast cancer cell lines [34]. |omoting activities depending on the type of c-CBL mutation and the number of alleles at the c-CBL locus [24]. |nd migration, but the substrate affected by these mutations are not known yet. |s and given the clustering of c-CBL, EGFR and MET mutations, it is possible that the transforming effect of c-CBL mutations is most likely a combinatorial effect of the three. |icant number of samples that harbored MET or EGFR mutations. |7% of lung tumor samples are likely to have c-CBL mutations and an additional 22% are likely to harbor c-CBL-related LOH, makes c-CBL a highly mutated molecule in lung cancer. |a transforming event [35], [36], [37], associated mutation in the MET or EGFR locus or yet another RTK discussed above may play a role in carcinogenesis. | of synergy working with reduced c-CBL levels and mutated receptors that exacerbate the phenotype of each alone. |elatively high frequencies of gain-of-function of mutations in RTKs such as EGFR and MET [31]. |n a cohort of Japanese patients an activating MET mutation was identified in the splice region that deletes the juxtamembrane domain that is involved E3 activity of c-CBL [38]. |is mutually exclusive of EGFR, KRAS and HER2 gene mutations [38]. |(n\\u200a=\\u200a29) and Caucasian (n\\u200a=\\u200a50) patients. One MET mutation was identified in each of the groups whereas 1 and 3 EGFR mutations were identified in the African-American and Caucasian cohorts respectively. |ns have earlier been identified as one of the key mutations affecting lung adenocarcinoma patients in a comprehensive study of 188 patients [39]. |C. However, the published series did not find any mutations in c-CBL or MET unlike our study that encompassed different subtypes of NSCLC. |mportant to note, we have recently shown that MET mutations in lung cancer are in majority germline [31]. |; however there was no preferential expression or mutations of the above genes in lung tumor samples of African-Americans. |study, we show relatively high frequency of c-CBL mutations in lung cancers, especially in the large cell type among Caucasians and particularly among African-Americans. |n this study demonstrate that c-CBL is frequently mutated or even lost in lung cancers. \""
      ]
     },
     "execution_count": 241,
     "metadata": {},
     "output_type": "execute_result"
    }
   ],
   "source": [
    "df_train3.new_context[1]"
   ]
  },
  {
   "cell_type": "code",
   "execution_count": null,
   "metadata": {
    "collapsed": true
   },
   "outputs": [],
   "source": []
  }
 ],
 "metadata": {
  "kernelspec": {
   "display_name": "Python 3",
   "language": "python",
   "name": "python3"
  },
  "language_info": {
   "codemirror_mode": {
    "name": "ipython",
    "version": 3
   },
   "file_extension": ".py",
   "mimetype": "text/x-python",
   "name": "python",
   "nbconvert_exporter": "python",
   "pygments_lexer": "ipython3",
   "version": "3.6.1"
  }
 },
 "nbformat": 4,
 "nbformat_minor": 2
}
